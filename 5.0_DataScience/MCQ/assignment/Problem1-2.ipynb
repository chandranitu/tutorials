{
 "cells": [
  {
   "cell_type": "code",
   "execution_count": 1,
   "metadata": {},
   "outputs": [],
   "source": [
    "import pandas as pd"
   ]
  },
  {
   "cell_type": "code",
   "execution_count": 13,
   "metadata": {},
   "outputs": [],
   "source": [
    "data1 =pd.read_csv(\"bballPlayers.csv\")"
   ]
  },
  {
   "cell_type": "code",
   "execution_count": 14,
   "metadata": {},
   "outputs": [],
   "source": [
    "data2=pd.read_csv(\"bballStats.csv\")"
   ]
  },
  {
   "cell_type": "code",
   "execution_count": 18,
   "metadata": {},
   "outputs": [
    {
     "data": {
      "text/html": [
       "<div>\n",
       "<style scoped>\n",
       "    .dataframe tbody tr th:only-of-type {\n",
       "        vertical-align: middle;\n",
       "    }\n",
       "\n",
       "    .dataframe tbody tr th {\n",
       "        vertical-align: top;\n",
       "    }\n",
       "\n",
       "    .dataframe thead th {\n",
       "        text-align: right;\n",
       "    }\n",
       "</style>\n",
       "<table border=\"1\" class=\"dataframe\">\n",
       "  <thead>\n",
       "    <tr style=\"text-align: right;\">\n",
       "      <th></th>\n",
       "      <th>height</th>\n",
       "      <th>weight</th>\n",
       "    </tr>\n",
       "  </thead>\n",
       "  <tbody>\n",
       "    <tr>\n",
       "      <th>count</th>\n",
       "      <td>1246.000000</td>\n",
       "      <td>1245.000000</td>\n",
       "    </tr>\n",
       "    <tr>\n",
       "      <th>mean</th>\n",
       "      <td>74.138443</td>\n",
       "      <td>196.388755</td>\n",
       "    </tr>\n",
       "    <tr>\n",
       "      <th>std</th>\n",
       "      <td>16.940396</td>\n",
       "      <td>50.312351</td>\n",
       "    </tr>\n",
       "    <tr>\n",
       "      <th>min</th>\n",
       "      <td>0.000000</td>\n",
       "      <td>0.000000</td>\n",
       "    </tr>\n",
       "    <tr>\n",
       "      <th>25%</th>\n",
       "      <td>75.000000</td>\n",
       "      <td>185.000000</td>\n",
       "    </tr>\n",
       "    <tr>\n",
       "      <th>50%</th>\n",
       "      <td>78.000000</td>\n",
       "      <td>205.000000</td>\n",
       "    </tr>\n",
       "    <tr>\n",
       "      <th>75%</th>\n",
       "      <td>81.000000</td>\n",
       "      <td>220.000000</td>\n",
       "    </tr>\n",
       "    <tr>\n",
       "      <th>max</th>\n",
       "      <td>88.000000</td>\n",
       "      <td>300.000000</td>\n",
       "    </tr>\n",
       "  </tbody>\n",
       "</table>\n",
       "</div>"
      ],
      "text/plain": [
       "            height       weight\n",
       "count  1246.000000  1245.000000\n",
       "mean     74.138443   196.388755\n",
       "std      16.940396    50.312351\n",
       "min       0.000000     0.000000\n",
       "25%      75.000000   185.000000\n",
       "50%      78.000000   205.000000\n",
       "75%      81.000000   220.000000\n",
       "max      88.000000   300.000000"
      ]
     },
     "execution_count": 18,
     "metadata": {},
     "output_type": "execute_result"
    }
   ],
   "source": [
    "#data1.head()\n",
    "#data1.describe()"
   ]
  },
  {
   "cell_type": "code",
   "execution_count": 20,
   "metadata": {},
   "outputs": [
    {
     "data": {
      "text/plain": [
       "(4587, 38)"
      ]
     },
     "execution_count": 20,
     "metadata": {},
     "output_type": "execute_result"
    }
   ],
   "source": [
    "data2.shape"
   ]
  },
  {
   "cell_type": "code",
   "execution_count": 79,
   "metadata": {},
   "outputs": [],
   "source": [
    "#data3= pd.read_csv(\"bballStats.txt\")"
   ]
  },
  {
   "cell_type": "code",
   "execution_count": 24,
   "metadata": {},
   "outputs": [],
   "source": [
    " f = open(\"bballStats.txt\", \"r\")\n",
    " data = f.readlines()"
   ]
  },
  {
   "cell_type": "code",
   "execution_count": 34,
   "metadata": {},
   "outputs": [],
   "source": [
    "#create a list using delimiter ,\n",
    "with open('bballStats.txt') as f:\n",
    "    lines = [line.rstrip() for line in f]"
   ]
  },
  {
   "cell_type": "code",
   "execution_count": 115,
   "metadata": {},
   "outputs": [
    {
     "data": {
      "text/plain": [
       "'playerID,GP,minutes,points,oRebounds,dRebounds,rebounds,assists,steals,blocks,turnovers,PF,fgAttempted,fgMade,ftAttempted,ftMade,threeAttempted,threeMade,PostGP,PostGS,PostMinutes,PostPoints,PostoRebounds,PostdRebounds,PostRebounds,PostAssists,PostSteals,PostBlocks,PostTurnovers,PostPF,PostfgAttempted,PostfgMade,PostftAttempted,PostftMade,PostthreeAttempted,PostthreeMade,note,year'"
      ]
     },
     "execution_count": 115,
     "metadata": {},
     "output_type": "execute_result"
    }
   ],
   "source": [
    "needs_cleaning = lines.pop(3288)\n",
    "lines[0]"
   ]
  },
  {
   "cell_type": "code",
   "execution_count": 41,
   "metadata": {},
   "outputs": [
    {
     "data": {
      "text/plain": [
       "'hardaan01,4,72,10,0,10,10,8,2,0,6,7,14,4,2,2,1,0,0,0,0,0,0,0,0,0,0,0,0,0,0,0,0,0,0,0,,2005harrial01,76,2782,1411,132,391,523,238,85,14,195,301,1220,551,350,243,191,66,0,0,0,0,0,0,0,0,0,0,0,0,0,0,0,0,0,0,,2005'"
      ]
     },
     "execution_count": 41,
     "metadata": {},
     "output_type": "execute_result"
    }
   ],
   "source": [
    "needs_cleaning"
   ]
  },
  {
   "cell_type": "code",
   "execution_count": 59,
   "metadata": {},
   "outputs": [
    {
     "data": {
      "text/plain": [
       "'abdulma02,67,1505,942,34,87,121,206,55,4,110,149,1009,417,98,84,100,24,0,0,0,0,0,0,0,0,0,0,0,0,0,0,0,0,0,0,,1990'"
      ]
     },
     "execution_count": 59,
     "metadata": {},
     "output_type": "execute_result"
    }
   ],
   "source": [
    "lines[1]"
   ]
  },
  {
   "cell_type": "code",
   "execution_count": 43,
   "metadata": {},
   "outputs": [
    {
     "data": {
      "text/plain": [
       "76"
      ]
     },
     "execution_count": 43,
     "metadata": {},
     "output_type": "execute_result"
    }
   ],
   "source": [
    "38*2"
   ]
  },
  {
   "cell_type": "code",
   "execution_count": 63,
   "metadata": {},
   "outputs": [],
   "source": [
    "needs_cleaning=needs_cleaning.replace(\"2005harrial01\",\"2005,harrial01\")"
   ]
  },
  {
   "cell_type": "code",
   "execution_count": 65,
   "metadata": {},
   "outputs": [
    {
     "data": {
      "text/plain": [
       "'hardaan01,4,72,10,0,10,10,8,2,0,6,7,14,4,2,2,1,0,0,0,0,0,0,0,0,0,0,0,0,0,0,0,0,0,0,0,,2005'"
      ]
     },
     "execution_count": 65,
     "metadata": {},
     "output_type": "execute_result"
    }
   ],
   "source": [
    "needs_cleaning[0:90]"
   ]
  },
  {
   "cell_type": "code",
   "execution_count": 66,
   "metadata": {},
   "outputs": [
    {
     "data": {
      "text/plain": [
       "'harrial01,76,2782,1411,132,391,523,238,85,14,195,301,1220,551,350,243,191,66,0,0,0,0,0,0,0,0,0,0,0,0,0,0,0,0,0,0,,2005'"
      ]
     },
     "execution_count": 66,
     "metadata": {},
     "output_type": "execute_result"
    }
   ],
   "source": [
    "needs_cleaning[91:]"
   ]
  },
  {
   "cell_type": "code",
   "execution_count": 67,
   "metadata": {},
   "outputs": [],
   "source": [
    "lines.append(needs_cleaning[0:90])\n",
    "lines.append(needs_cleaning[91:])"
   ]
  },
  {
   "cell_type": "code",
   "execution_count": 69,
   "metadata": {},
   "outputs": [
    {
     "data": {
      "text/html": [
       "<div>\n",
       "<style scoped>\n",
       "    .dataframe tbody tr th:only-of-type {\n",
       "        vertical-align: middle;\n",
       "    }\n",
       "\n",
       "    .dataframe tbody tr th {\n",
       "        vertical-align: top;\n",
       "    }\n",
       "\n",
       "    .dataframe thead th {\n",
       "        text-align: right;\n",
       "    }\n",
       "</style>\n",
       "<table border=\"1\" class=\"dataframe\">\n",
       "  <thead>\n",
       "    <tr style=\"text-align: right;\">\n",
       "      <th></th>\n",
       "      <th>0</th>\n",
       "    </tr>\n",
       "  </thead>\n",
       "  <tbody>\n",
       "    <tr>\n",
       "      <th>0</th>\n",
       "      <td>playerID,GP,minutes,points,oRebounds,dRebounds...</td>\n",
       "    </tr>\n",
       "    <tr>\n",
       "      <th>1</th>\n",
       "      <td>abdulma02,67,1505,942,34,87,121,206,55,4,110,1...</td>\n",
       "    </tr>\n",
       "    <tr>\n",
       "      <th>2</th>\n",
       "      <td>adamsmi01,66,2346,1752,58,198,256,693,147,6,24...</td>\n",
       "    </tr>\n",
       "    <tr>\n",
       "      <th>3</th>\n",
       "      <td>aguirma01,78,2006,1104,134,240,374,139,47,20,1...</td>\n",
       "    </tr>\n",
       "    <tr>\n",
       "      <th>4</th>\n",
       "      <td>aingeda01,80,1710,890,45,160,205,285,63,13,100...</td>\n",
       "    </tr>\n",
       "  </tbody>\n",
       "</table>\n",
       "</div>"
      ],
      "text/plain": [
       "                                                   0\n",
       "0  playerID,GP,minutes,points,oRebounds,dRebounds...\n",
       "1  abdulma02,67,1505,942,34,87,121,206,55,4,110,1...\n",
       "2  adamsmi01,66,2346,1752,58,198,256,693,147,6,24...\n",
       "3  aguirma01,78,2006,1104,134,240,374,139,47,20,1...\n",
       "4  aingeda01,80,1710,890,45,160,205,285,63,13,100..."
      ]
     },
     "execution_count": 69,
     "metadata": {},
     "output_type": "execute_result"
    }
   ],
   "source": [
    "required_data=pd.DataFrame(lines)\n",
    "required_data.head()"
   ]
  },
  {
   "cell_type": "code",
   "execution_count": 71,
   "metadata": {},
   "outputs": [],
   "source": [
    "lines_list=[]\n",
    "for line in lines:\n",
    "    lines_list.append(line.split(\",\"))"
   ]
  },
  {
   "cell_type": "markdown",
   "metadata": {},
   "source": [
    "lines_data = pd.DataFrame(lines_list[1:],columns=lines_list[0])\n",
    "lines_data.shape"
   ]
  },
  {
   "cell_type": "code",
   "execution_count": 77,
   "metadata": {},
   "outputs": [],
   "source": [
    "reqPos=[\"G\", \"G-F\", \"F-G\", \"F\", \"F-C\", \"C-F\", \"C\"]"
   ]
  },
  {
   "cell_type": "raw",
   "metadata": {},
   "source": [
    "\n",
    "\n"
   ]
  },
  {
   "cell_type": "code",
   "execution_count": 108,
   "metadata": {},
   "outputs": [
    {
     "data": {
      "text/plain": [
       "(1167, 5)"
      ]
     },
     "execution_count": 108,
     "metadata": {},
     "output_type": "execute_result"
    }
   ],
   "source": [
    "#surveys_df[surveys_df.year == 2002]\n",
    "reqData=pd.DataFrame()\n",
    "\n",
    "def reqPosdata(data , strArray , colName):\n",
    "    for i in range(len(strArray)):\n",
    "        reqdatasubset = data[data[colName]==strArray[i]]\n",
    "        #print(reqdatasubset)\n",
    "        if i == 0:\n",
    "            reqData=reqdatasubset\n",
    "        else:\n",
    "            reqData = reqData.append(reqdatasubset)\n",
    "            \n",
    "    return(reqData)\n",
    "\n",
    "\n",
    "subsettedData = reqPosdata(data = data1,strArray=reqPos,colName = \"pos\" )\n",
    "subsettedData.shape"
   ]
  },
  {
   "cell_type": "code",
   "execution_count": 109,
   "metadata": {},
   "outputs": [
    {
     "data": {
      "text/plain": [
       "(1250, 5)"
      ]
     },
     "execution_count": 109,
     "metadata": {},
     "output_type": "execute_result"
    }
   ],
   "source": [
    "data1.shape"
   ]
  },
  {
   "cell_type": "code",
   "execution_count": 110,
   "metadata": {},
   "outputs": [],
   "source": [
    "#problem 2"
   ]
  },
  {
   "cell_type": "code",
   "execution_count": 113,
   "metadata": {},
   "outputs": [
    {
     "data": {
      "text/html": [
       "<div>\n",
       "<style scoped>\n",
       "    .dataframe tbody tr th:only-of-type {\n",
       "        vertical-align: middle;\n",
       "    }\n",
       "\n",
       "    .dataframe tbody tr th {\n",
       "        vertical-align: top;\n",
       "    }\n",
       "\n",
       "    .dataframe thead th {\n",
       "        text-align: right;\n",
       "    }\n",
       "</style>\n",
       "<table border=\"1\" class=\"dataframe\">\n",
       "  <thead>\n",
       "    <tr style=\"text-align: right;\">\n",
       "      <th></th>\n",
       "      <th>playerID</th>\n",
       "      <th>GP</th>\n",
       "      <th>minutes</th>\n",
       "      <th>points</th>\n",
       "      <th>oRebounds</th>\n",
       "      <th>dRebounds</th>\n",
       "      <th>rebounds</th>\n",
       "      <th>steals</th>\n",
       "      <th>blocks</th>\n",
       "      <th>turnovers</th>\n",
       "      <th>PF</th>\n",
       "      <th>fgAttempted</th>\n",
       "      <th>fgMade</th>\n",
       "      <th>ftAttempted</th>\n",
       "      <th>ftMade</th>\n",
       "      <th>threeAttempted</th>\n",
       "      <th>threeMade</th>\n",
       "      <th>year</th>\n",
       "    </tr>\n",
       "  </thead>\n",
       "  <tbody>\n",
       "    <tr>\n",
       "      <th>0</th>\n",
       "      <td>abdulma02</td>\n",
       "      <td>67</td>\n",
       "      <td>1505</td>\n",
       "      <td>942</td>\n",
       "      <td>34</td>\n",
       "      <td>87</td>\n",
       "      <td>121</td>\n",
       "      <td>55</td>\n",
       "      <td>4</td>\n",
       "      <td>110</td>\n",
       "      <td>149</td>\n",
       "      <td>1009</td>\n",
       "      <td>417</td>\n",
       "      <td>98</td>\n",
       "      <td>84</td>\n",
       "      <td>100</td>\n",
       "      <td>24</td>\n",
       "      <td>1990</td>\n",
       "    </tr>\n",
       "    <tr>\n",
       "      <th>1</th>\n",
       "      <td>adamsmi01</td>\n",
       "      <td>66</td>\n",
       "      <td>2346</td>\n",
       "      <td>1752</td>\n",
       "      <td>58</td>\n",
       "      <td>198</td>\n",
       "      <td>256</td>\n",
       "      <td>147</td>\n",
       "      <td>6</td>\n",
       "      <td>240</td>\n",
       "      <td>162</td>\n",
       "      <td>1421</td>\n",
       "      <td>560</td>\n",
       "      <td>529</td>\n",
       "      <td>465</td>\n",
       "      <td>564</td>\n",
       "      <td>167</td>\n",
       "      <td>1990</td>\n",
       "    </tr>\n",
       "    <tr>\n",
       "      <th>2</th>\n",
       "      <td>aguirma01</td>\n",
       "      <td>78</td>\n",
       "      <td>2006</td>\n",
       "      <td>1104</td>\n",
       "      <td>134</td>\n",
       "      <td>240</td>\n",
       "      <td>374</td>\n",
       "      <td>47</td>\n",
       "      <td>20</td>\n",
       "      <td>128</td>\n",
       "      <td>209</td>\n",
       "      <td>909</td>\n",
       "      <td>420</td>\n",
       "      <td>317</td>\n",
       "      <td>240</td>\n",
       "      <td>78</td>\n",
       "      <td>24</td>\n",
       "      <td>1990</td>\n",
       "    </tr>\n",
       "    <tr>\n",
       "      <th>3</th>\n",
       "      <td>aingeda01</td>\n",
       "      <td>80</td>\n",
       "      <td>1710</td>\n",
       "      <td>890</td>\n",
       "      <td>45</td>\n",
       "      <td>160</td>\n",
       "      <td>205</td>\n",
       "      <td>63</td>\n",
       "      <td>13</td>\n",
       "      <td>100</td>\n",
       "      <td>195</td>\n",
       "      <td>714</td>\n",
       "      <td>337</td>\n",
       "      <td>138</td>\n",
       "      <td>114</td>\n",
       "      <td>251</td>\n",
       "      <td>102</td>\n",
       "      <td>1990</td>\n",
       "    </tr>\n",
       "    <tr>\n",
       "      <th>4</th>\n",
       "      <td>andergr01</td>\n",
       "      <td>26</td>\n",
       "      <td>247</td>\n",
       "      <td>70</td>\n",
       "      <td>26</td>\n",
       "      <td>49</td>\n",
       "      <td>75</td>\n",
       "      <td>8</td>\n",
       "      <td>9</td>\n",
       "      <td>22</td>\n",
       "      <td>29</td>\n",
       "      <td>73</td>\n",
       "      <td>27</td>\n",
       "      <td>28</td>\n",
       "      <td>16</td>\n",
       "      <td>1</td>\n",
       "      <td>0</td>\n",
       "      <td>1990</td>\n",
       "    </tr>\n",
       "  </tbody>\n",
       "</table>\n",
       "</div>"
      ],
      "text/plain": [
       "    playerID  GP  minutes  points  oRebounds  dRebounds  rebounds  steals  \\\n",
       "0  abdulma02  67     1505     942         34         87       121      55   \n",
       "1  adamsmi01  66     2346    1752         58        198       256     147   \n",
       "2  aguirma01  78     2006    1104        134        240       374      47   \n",
       "3  aingeda01  80     1710     890         45        160       205      63   \n",
       "4  andergr01  26      247      70         26         49        75       8   \n",
       "\n",
       "   blocks  turnovers   PF  fgAttempted  fgMade  ftAttempted  ftMade  \\\n",
       "0       4        110  149         1009     417           98      84   \n",
       "1       6        240  162         1421     560          529     465   \n",
       "2      20        128  209          909     420          317     240   \n",
       "3      13        100  195          714     337          138     114   \n",
       "4       9         22   29           73      27           28      16   \n",
       "\n",
       "   threeAttempted  threeMade  year  \n",
       "0             100         24  1990  \n",
       "1             564        167  1990  \n",
       "2              78         24  1990  \n",
       "3             251        102  1990  \n",
       "4               1          0  1990  "
      ]
     },
     "execution_count": 113,
     "metadata": {},
     "output_type": "execute_result"
    }
   ],
   "source": [
    "reqCols=[\"playerID\",\"GP\",\"minutes\",\"points\",\"oRebounds\",\"dRebounds\",\"rebounds\",\"steals\",\"blocks\",\"turnovers\", \"PF\",\"fgAttempted\",\"fgMade\",\"ftAttempted\",\"ftMade\",\"threeAttempted\",\"threeMade\",\"year\"]   \n",
    "bballStats=data2[reqCols]\n",
    "bballStats.head()"
   ]
  },
  {
   "cell_type": "raw",
   "metadata": {},
   "source": [
    "totalData <- merge(bballPlayers,reqData,by=\"playerID\")"
   ]
  },
  {
   "cell_type": "code",
   "execution_count": 120,
   "metadata": {},
   "outputs": [
    {
     "data": {
      "text/html": [
       "<div>\n",
       "<style scoped>\n",
       "    .dataframe tbody tr th:only-of-type {\n",
       "        vertical-align: middle;\n",
       "    }\n",
       "\n",
       "    .dataframe tbody tr th {\n",
       "        vertical-align: top;\n",
       "    }\n",
       "\n",
       "    .dataframe thead th {\n",
       "        text-align: right;\n",
       "    }\n",
       "</style>\n",
       "<table border=\"1\" class=\"dataframe\">\n",
       "  <thead>\n",
       "    <tr style=\"text-align: right;\">\n",
       "      <th></th>\n",
       "      <th>playerID</th>\n",
       "      <th>GP</th>\n",
       "      <th>minutes</th>\n",
       "      <th>points</th>\n",
       "      <th>oRebounds</th>\n",
       "      <th>dRebounds</th>\n",
       "      <th>rebounds</th>\n",
       "      <th>steals</th>\n",
       "      <th>blocks</th>\n",
       "      <th>turnovers</th>\n",
       "      <th>PF</th>\n",
       "      <th>fgAttempted</th>\n",
       "      <th>fgMade</th>\n",
       "      <th>ftAttempted</th>\n",
       "      <th>ftMade</th>\n",
       "      <th>threeAttempted</th>\n",
       "      <th>threeMade</th>\n",
       "    </tr>\n",
       "  </thead>\n",
       "  <tbody>\n",
       "    <tr>\n",
       "      <th>0</th>\n",
       "      <td>abdulma02</td>\n",
       "      <td>67</td>\n",
       "      <td>1505</td>\n",
       "      <td>942</td>\n",
       "      <td>34</td>\n",
       "      <td>87</td>\n",
       "      <td>121</td>\n",
       "      <td>55</td>\n",
       "      <td>4</td>\n",
       "      <td>110</td>\n",
       "      <td>149</td>\n",
       "      <td>1009</td>\n",
       "      <td>417</td>\n",
       "      <td>98</td>\n",
       "      <td>84</td>\n",
       "      <td>100</td>\n",
       "      <td>24</td>\n",
       "    </tr>\n",
       "    <tr>\n",
       "      <th>1</th>\n",
       "      <td>adamsmi01</td>\n",
       "      <td>66</td>\n",
       "      <td>2346</td>\n",
       "      <td>1752</td>\n",
       "      <td>58</td>\n",
       "      <td>198</td>\n",
       "      <td>256</td>\n",
       "      <td>147</td>\n",
       "      <td>6</td>\n",
       "      <td>240</td>\n",
       "      <td>162</td>\n",
       "      <td>1421</td>\n",
       "      <td>560</td>\n",
       "      <td>529</td>\n",
       "      <td>465</td>\n",
       "      <td>564</td>\n",
       "      <td>167</td>\n",
       "    </tr>\n",
       "    <tr>\n",
       "      <th>2</th>\n",
       "      <td>aguirma01</td>\n",
       "      <td>78</td>\n",
       "      <td>2006</td>\n",
       "      <td>1104</td>\n",
       "      <td>134</td>\n",
       "      <td>240</td>\n",
       "      <td>374</td>\n",
       "      <td>47</td>\n",
       "      <td>20</td>\n",
       "      <td>128</td>\n",
       "      <td>209</td>\n",
       "      <td>909</td>\n",
       "      <td>420</td>\n",
       "      <td>317</td>\n",
       "      <td>240</td>\n",
       "      <td>78</td>\n",
       "      <td>24</td>\n",
       "    </tr>\n",
       "    <tr>\n",
       "      <th>3</th>\n",
       "      <td>aingeda01</td>\n",
       "      <td>80</td>\n",
       "      <td>1710</td>\n",
       "      <td>890</td>\n",
       "      <td>45</td>\n",
       "      <td>160</td>\n",
       "      <td>205</td>\n",
       "      <td>63</td>\n",
       "      <td>13</td>\n",
       "      <td>100</td>\n",
       "      <td>195</td>\n",
       "      <td>714</td>\n",
       "      <td>337</td>\n",
       "      <td>138</td>\n",
       "      <td>114</td>\n",
       "      <td>251</td>\n",
       "      <td>102</td>\n",
       "    </tr>\n",
       "    <tr>\n",
       "      <th>4</th>\n",
       "      <td>andergr01</td>\n",
       "      <td>26</td>\n",
       "      <td>247</td>\n",
       "      <td>70</td>\n",
       "      <td>26</td>\n",
       "      <td>49</td>\n",
       "      <td>75</td>\n",
       "      <td>8</td>\n",
       "      <td>9</td>\n",
       "      <td>22</td>\n",
       "      <td>29</td>\n",
       "      <td>73</td>\n",
       "      <td>27</td>\n",
       "      <td>28</td>\n",
       "      <td>16</td>\n",
       "      <td>1</td>\n",
       "      <td>0</td>\n",
       "    </tr>\n",
       "  </tbody>\n",
       "</table>\n",
       "</div>"
      ],
      "text/plain": [
       "    playerID  GP  minutes  points  oRebounds  dRebounds  rebounds  steals  \\\n",
       "0  abdulma02  67     1505     942         34         87       121      55   \n",
       "1  adamsmi01  66     2346    1752         58        198       256     147   \n",
       "2  aguirma01  78     2006    1104        134        240       374      47   \n",
       "3  aingeda01  80     1710     890         45        160       205      63   \n",
       "4  andergr01  26      247      70         26         49        75       8   \n",
       "\n",
       "   blocks  turnovers   PF  fgAttempted  fgMade  ftAttempted  ftMade  \\\n",
       "0       4        110  149         1009     417           98      84   \n",
       "1       6        240  162         1421     560          529     465   \n",
       "2      20        128  209          909     420          317     240   \n",
       "3      13        100  195          714     337          138     114   \n",
       "4       9         22   29           73      27           28      16   \n",
       "\n",
       "   threeAttempted  threeMade  \n",
       "0             100         24  \n",
       "1             564        167  \n",
       "2              78         24  \n",
       "3             251        102  \n",
       "4               1          0  "
      ]
     },
     "execution_count": 120,
     "metadata": {},
     "output_type": "execute_result"
    }
   ],
   "source": [
    "bballStats=bballStats.drop(\"year\",axis=1)\n",
    "bballStats.head()"
   ]
  },
  {
   "cell_type": "code",
   "execution_count": 122,
   "metadata": {},
   "outputs": [],
   "source": [
    "bballStats_grouped = bballStats.groupby(['playerID']).sum()"
   ]
  },
  {
   "cell_type": "code",
   "execution_count": 125,
   "metadata": {},
   "outputs": [],
   "source": [
    "totalData = pd.merge(data1,bballStats,on=\"playerID\")"
   ]
  },
  {
   "cell_type": "code",
   "execution_count": 126,
   "metadata": {},
   "outputs": [
    {
     "data": {
      "text/html": [
       "<div>\n",
       "<style scoped>\n",
       "    .dataframe tbody tr th:only-of-type {\n",
       "        vertical-align: middle;\n",
       "    }\n",
       "\n",
       "    .dataframe tbody tr th {\n",
       "        vertical-align: top;\n",
       "    }\n",
       "\n",
       "    .dataframe thead th {\n",
       "        text-align: right;\n",
       "    }\n",
       "</style>\n",
       "<table border=\"1\" class=\"dataframe\">\n",
       "  <thead>\n",
       "    <tr style=\"text-align: right;\">\n",
       "      <th></th>\n",
       "      <th>playerID</th>\n",
       "      <th>name</th>\n",
       "      <th>pos</th>\n",
       "      <th>height</th>\n",
       "      <th>weight</th>\n",
       "      <th>GP</th>\n",
       "      <th>minutes</th>\n",
       "      <th>points</th>\n",
       "      <th>oRebounds</th>\n",
       "      <th>dRebounds</th>\n",
       "      <th>...</th>\n",
       "      <th>steals</th>\n",
       "      <th>blocks</th>\n",
       "      <th>turnovers</th>\n",
       "      <th>PF</th>\n",
       "      <th>fgAttempted</th>\n",
       "      <th>fgMade</th>\n",
       "      <th>ftAttempted</th>\n",
       "      <th>ftMade</th>\n",
       "      <th>threeAttempted</th>\n",
       "      <th>threeMade</th>\n",
       "    </tr>\n",
       "  </thead>\n",
       "  <tbody>\n",
       "    <tr>\n",
       "      <th>0</th>\n",
       "      <td>abdulma02</td>\n",
       "      <td>Mahmoud Abdul-Rauf</td>\n",
       "      <td>G</td>\n",
       "      <td>73.0</td>\n",
       "      <td>162.0</td>\n",
       "      <td>67</td>\n",
       "      <td>1505</td>\n",
       "      <td>942</td>\n",
       "      <td>34</td>\n",
       "      <td>87</td>\n",
       "      <td>...</td>\n",
       "      <td>55</td>\n",
       "      <td>4</td>\n",
       "      <td>110</td>\n",
       "      <td>149</td>\n",
       "      <td>1009</td>\n",
       "      <td>417</td>\n",
       "      <td>98</td>\n",
       "      <td>84</td>\n",
       "      <td>100</td>\n",
       "      <td>24</td>\n",
       "    </tr>\n",
       "    <tr>\n",
       "      <th>1</th>\n",
       "      <td>abdulma02</td>\n",
       "      <td>Mahmoud Abdul-Rauf</td>\n",
       "      <td>G</td>\n",
       "      <td>73.0</td>\n",
       "      <td>162.0</td>\n",
       "      <td>81</td>\n",
       "      <td>1538</td>\n",
       "      <td>837</td>\n",
       "      <td>22</td>\n",
       "      <td>92</td>\n",
       "      <td>...</td>\n",
       "      <td>44</td>\n",
       "      <td>4</td>\n",
       "      <td>117</td>\n",
       "      <td>130</td>\n",
       "      <td>845</td>\n",
       "      <td>356</td>\n",
       "      <td>108</td>\n",
       "      <td>94</td>\n",
       "      <td>94</td>\n",
       "      <td>31</td>\n",
       "    </tr>\n",
       "    <tr>\n",
       "      <th>2</th>\n",
       "      <td>abdulma02</td>\n",
       "      <td>Mahmoud Abdul-Rauf</td>\n",
       "      <td>G</td>\n",
       "      <td>73.0</td>\n",
       "      <td>162.0</td>\n",
       "      <td>81</td>\n",
       "      <td>2710</td>\n",
       "      <td>1553</td>\n",
       "      <td>51</td>\n",
       "      <td>174</td>\n",
       "      <td>...</td>\n",
       "      <td>84</td>\n",
       "      <td>8</td>\n",
       "      <td>187</td>\n",
       "      <td>179</td>\n",
       "      <td>1407</td>\n",
       "      <td>633</td>\n",
       "      <td>232</td>\n",
       "      <td>217</td>\n",
       "      <td>197</td>\n",
       "      <td>70</td>\n",
       "    </tr>\n",
       "    <tr>\n",
       "      <th>3</th>\n",
       "      <td>abdulma02</td>\n",
       "      <td>Mahmoud Abdul-Rauf</td>\n",
       "      <td>G</td>\n",
       "      <td>73.0</td>\n",
       "      <td>162.0</td>\n",
       "      <td>80</td>\n",
       "      <td>2617</td>\n",
       "      <td>1437</td>\n",
       "      <td>27</td>\n",
       "      <td>141</td>\n",
       "      <td>...</td>\n",
       "      <td>82</td>\n",
       "      <td>10</td>\n",
       "      <td>151</td>\n",
       "      <td>150</td>\n",
       "      <td>1279</td>\n",
       "      <td>588</td>\n",
       "      <td>229</td>\n",
       "      <td>219</td>\n",
       "      <td>133</td>\n",
       "      <td>42</td>\n",
       "    </tr>\n",
       "    <tr>\n",
       "      <th>4</th>\n",
       "      <td>abdulma02</td>\n",
       "      <td>Mahmoud Abdul-Rauf</td>\n",
       "      <td>G</td>\n",
       "      <td>73.0</td>\n",
       "      <td>162.0</td>\n",
       "      <td>73</td>\n",
       "      <td>2082</td>\n",
       "      <td>1165</td>\n",
       "      <td>32</td>\n",
       "      <td>105</td>\n",
       "      <td>...</td>\n",
       "      <td>77</td>\n",
       "      <td>9</td>\n",
       "      <td>119</td>\n",
       "      <td>126</td>\n",
       "      <td>1005</td>\n",
       "      <td>472</td>\n",
       "      <td>156</td>\n",
       "      <td>138</td>\n",
       "      <td>215</td>\n",
       "      <td>83</td>\n",
       "    </tr>\n",
       "  </tbody>\n",
       "</table>\n",
       "<p>5 rows × 21 columns</p>\n",
       "</div>"
      ],
      "text/plain": [
       "    playerID                name pos  height  weight  GP  minutes  points  \\\n",
       "0  abdulma02  Mahmoud Abdul-Rauf   G    73.0   162.0  67     1505     942   \n",
       "1  abdulma02  Mahmoud Abdul-Rauf   G    73.0   162.0  81     1538     837   \n",
       "2  abdulma02  Mahmoud Abdul-Rauf   G    73.0   162.0  81     2710    1553   \n",
       "3  abdulma02  Mahmoud Abdul-Rauf   G    73.0   162.0  80     2617    1437   \n",
       "4  abdulma02  Mahmoud Abdul-Rauf   G    73.0   162.0  73     2082    1165   \n",
       "\n",
       "   oRebounds  dRebounds  ...  steals  blocks  turnovers   PF  fgAttempted  \\\n",
       "0         34         87  ...      55       4        110  149         1009   \n",
       "1         22         92  ...      44       4        117  130          845   \n",
       "2         51        174  ...      84       8        187  179         1407   \n",
       "3         27        141  ...      82      10        151  150         1279   \n",
       "4         32        105  ...      77       9        119  126         1005   \n",
       "\n",
       "   fgMade  ftAttempted  ftMade  threeAttempted  threeMade  \n",
       "0     417           98      84             100         24  \n",
       "1     356          108      94              94         31  \n",
       "2     633          232     217             197         70  \n",
       "3     588          229     219             133         42  \n",
       "4     472          156     138             215         83  \n",
       "\n",
       "[5 rows x 21 columns]"
      ]
     },
     "execution_count": 126,
     "metadata": {},
     "output_type": "execute_result"
    }
   ],
   "source": [
    "totalData.head()"
   ]
  },
  {
   "cell_type": "code",
   "execution_count": null,
   "metadata": {},
   "outputs": [],
   "source": [
    "alternate short c"
   ]
  }
 ],
 "metadata": {
  "kernelspec": {
   "display_name": "Python 3",
   "language": "python",
   "name": "python3"
  },
  "language_info": {
   "codemirror_mode": {
    "name": "ipython",
    "version": 3
   },
   "file_extension": ".py",
   "mimetype": "text/x-python",
   "name": "python",
   "nbconvert_exporter": "python",
   "pygments_lexer": "ipython3",
   "version": "3.8.5"
  }
 },
 "nbformat": 4,
 "nbformat_minor": 4
}
