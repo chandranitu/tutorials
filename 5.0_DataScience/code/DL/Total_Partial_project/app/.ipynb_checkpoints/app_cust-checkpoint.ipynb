{
 "cells": [
  {
   "cell_type": "code",
   "execution_count": 1,
   "metadata": {},
   "outputs": [
    {
     "name": "stderr",
     "output_type": "stream",
     "text": [
      "Using TensorFlow backend.\n"
     ]
    }
   ],
   "source": [
    "import os\n",
    "import json\n",
    "import urllib\n",
    "import h5py\n",
    "import pickle as pk\n",
    "import numpy as np\n",
    "\n",
    "from os.path import join, dirname, realpath\n",
    "from flask import Flask, request, redirect, url_for, send_from_directory, render_template, flash, Response\n",
    "from werkzeug.utils import secure_filename\n",
    "import ipynb.fs.defs.engine_cust as engine\n",
    "import engine"
   ]
  },
  {
   "cell_type": "code",
   "execution_count": 2,
   "metadata": {
    "collapsed": true
   },
   "outputs": [],
   "source": [
    "wk_dir = os.path.dirname(os.path.realpath('__file__'))"
   ]
  },
  {
   "cell_type": "code",
   "execution_count": 3,
   "metadata": {},
   "outputs": [
    {
     "data": {
      "text/plain": [
       "'C:\\\\Users\\\\pankaj.prabhakar\\\\Desktop\\\\defect_detection - Copy\\\\car-damage-detective-master\\\\app'"
      ]
     },
     "execution_count": 3,
     "metadata": {},
     "output_type": "execute_result"
    }
   ],
   "source": [
    "wk_dir"
   ]
  },
  {
   "cell_type": "code",
   "execution_count": 4,
   "metadata": {
    "collapsed": true
   },
   "outputs": [],
   "source": [
    "UPLOAD_FOLDER = join(os.path.dirname(os.path.realpath('__file__')), 'static\\\\upload\\\\')"
   ]
  },
  {
   "cell_type": "code",
   "execution_count": 5,
   "metadata": {},
   "outputs": [
    {
     "data": {
      "text/plain": [
       "'C:\\\\Users\\\\pankaj.prabhakar\\\\Desktop\\\\defect_detection - Copy\\\\car-damage-detective-master\\\\app\\\\static\\\\upload\\\\'"
      ]
     },
     "execution_count": 5,
     "metadata": {},
     "output_type": "execute_result"
    }
   ],
   "source": [
    "UPLOAD_FOLDER"
   ]
  },
  {
   "cell_type": "code",
   "execution_count": 6,
   "metadata": {
    "collapsed": true
   },
   "outputs": [],
   "source": [
    "ALLOWED_EXTENSIONS = set(['png', 'PNG', 'jpg', 'JPG', 'jpeg', 'JPEG', 'gif', 'GIF']) "
   ]
  },
  {
   "cell_type": "code",
   "execution_count": 7,
   "metadata": {
    "collapsed": true
   },
   "outputs": [],
   "source": [
    "app = Flask(__name__)\n",
    "app.config['UPLOAD_FOLDER'] = UPLOAD_FOLDER\n",
    "app.config['MAX_CONTENT_LENGTH'] = 10 * 1024 * 1024 # max upload - 10MB\n",
    "app.secret_key = 'secret'"
   ]
  },
  {
   "cell_type": "code",
   "execution_count": 8,
   "metadata": {
    "collapsed": true
   },
   "outputs": [],
   "source": [
    "# check if an extension is valid and that uploads the file and redirects the user to the URL for the uploaded file\n",
    "def allowed_file(filename):\n",
    "\treturn '.' in filename and \\\n",
    "\t\t   filename.rsplit('.', 1)[1] in ALLOWED_EXTENSIONS\n",
    "\n",
    "\n",
    "@app.route('/')\n",
    "def home():\n",
    "\treturn render_template('index.html', result=None)\n",
    "\n",
    "@app.route('/<a>')\n",
    "def available(a):\n",
    "\tflash('{} coming soon!'.format(a))\n",
    "\treturn render_template('index.html', result=None, scroll='third')\n",
    "\n",
    "@app.route('/assessment')\n",
    "def assess():\n",
    "\treturn render_template('index.html', result=None, scroll='third')"
   ]
  },
  {
   "cell_type": "code",
   "execution_count": 9,
   "metadata": {
    "collapsed": true
   },
   "outputs": [],
   "source": [
    "@app.route('/assessment', methods=['GET', 'POST'])\n",
    "def upload_and_classify():\n",
    "\tif request.method == 'POST':\n",
    "\t\t# check if the post request has the file part\n",
    "\t\tif 'file' not in request.files:\n",
    "\t\t\tflash('No file part')\n",
    "\t\t\treturn redirect(url_for('assess'))\n",
    "\t\t\n",
    "\t\tfile = request.files['file']\n",
    "\n",
    "\t\t# if user does not select file, browser also\n",
    "\t\t# submit a empty part without filename\n",
    "\t\tif file.filename == '':\n",
    "\t\t\tflash('No selected file')\n",
    "\t\t\treturn redirect(url_for('assess'))\n",
    "\n",
    "\t\tif file and allowed_file(file.filename):\n",
    "\t\t\tfilename = secure_filename(file.filename) # used to secure a filename before storing it directly on the filesystem\n",
    "\t\t\tfile.save(os.path.join(app.config['UPLOAD_FOLDER'], filename))\n",
    "\t\t\t# return redirect(url_for('uploaded_file',\n",
    "\t\t\t#                         filename=filename))\n",
    "\t\t\tfilepath = os.path.join(app.config['UPLOAD_FOLDER'], filename)\n",
    "\t\t\tmodel_results = engine.engine(filepath,location_model)\n",
    "\n",
    "\t\t\treturn render_template('results.html', result=model_results, scroll='fourth', filename=filename)\n",
    "\t\n",
    "\tflash('Invalid file format - please try your upload again.')\n",
    "\treturn redirect(url_for('assess'))"
   ]
  },
  {
   "cell_type": "code",
   "execution_count": 10,
   "metadata": {
    "collapsed": true
   },
   "outputs": [],
   "source": [
    "@app.route('/uploads/<filename>')\n",
    "def send_file(filename):\n",
    "    return send_from_directory(UPLOAD_FOLDER, filename)\n",
    "\n",
    "def uploaded_file(filename):\n",
    "\treturn send_from_directory(app.config['UPLOAD_FOLDER'],\n",
    "\t\t\t\t\t\t\t   filename)"
   ]
  },
  {
   "cell_type": "code",
   "execution_count": null,
   "metadata": {},
   "outputs": [
    {
     "name": "stderr",
     "output_type": "stream",
     "text": [
      " * Running on http://localhost:8080/ (Press CTRL+C to quit)\n",
      "127.0.0.1 - - [16/Mar/2018 16:01:48] \"\u001b[37mGET / HTTP/1.1\u001b[0m\" 200 -\n",
      "127.0.0.1 - - [16/Mar/2018 16:01:54] \"\u001b[1m\u001b[35mPOST /assessment HTTP/1.1\u001b[0m\" 500 -\n",
      "Traceback (most recent call last):\n",
      "  File \"C:\\Users\\pankaj.prabhakar\\AppData\\Local\\Continuum\\Anaconda3\\lib\\site-packages\\flask\\app.py\", line 1997, in __call__\n",
      "    return self.wsgi_app(environ, start_response)\n",
      "  File \"C:\\Users\\pankaj.prabhakar\\AppData\\Local\\Continuum\\Anaconda3\\lib\\site-packages\\flask\\app.py\", line 1985, in wsgi_app\n",
      "    response = self.handle_exception(e)\n",
      "  File \"C:\\Users\\pankaj.prabhakar\\AppData\\Local\\Continuum\\Anaconda3\\lib\\site-packages\\flask\\app.py\", line 1540, in handle_exception\n",
      "    reraise(exc_type, exc_value, tb)\n",
      "  File \"C:\\Users\\pankaj.prabhakar\\AppData\\Local\\Continuum\\Anaconda3\\lib\\site-packages\\flask\\_compat.py\", line 33, in reraise\n",
      "    raise value\n",
      "  File \"C:\\Users\\pankaj.prabhakar\\AppData\\Local\\Continuum\\Anaconda3\\lib\\site-packages\\flask\\app.py\", line 1982, in wsgi_app\n",
      "    response = self.full_dispatch_request()\n",
      "  File \"C:\\Users\\pankaj.prabhakar\\AppData\\Local\\Continuum\\Anaconda3\\lib\\site-packages\\flask\\app.py\", line 1614, in full_dispatch_request\n",
      "    rv = self.handle_user_exception(e)\n",
      "  File \"C:\\Users\\pankaj.prabhakar\\AppData\\Local\\Continuum\\Anaconda3\\lib\\site-packages\\flask\\app.py\", line 1517, in handle_user_exception\n",
      "    reraise(exc_type, exc_value, tb)\n",
      "  File \"C:\\Users\\pankaj.prabhakar\\AppData\\Local\\Continuum\\Anaconda3\\lib\\site-packages\\flask\\_compat.py\", line 33, in reraise\n",
      "    raise value\n",
      "  File \"C:\\Users\\pankaj.prabhakar\\AppData\\Local\\Continuum\\Anaconda3\\lib\\site-packages\\flask\\app.py\", line 1612, in full_dispatch_request\n",
      "    rv = self.dispatch_request()\n",
      "  File \"C:\\Users\\pankaj.prabhakar\\AppData\\Local\\Continuum\\Anaconda3\\lib\\site-packages\\flask\\app.py\", line 1598, in dispatch_request\n",
      "    return self.view_functions[rule.endpoint](**req.view_args)\n",
      "  File \"<ipython-input-9-6053a68ded48>\", line 23, in upload_and_classify\n",
      "    \n",
      "NameError: name 'location_model' is not defined\n",
      "127.0.0.1 - - [16/Mar/2018 16:01:54] \"\u001b[37mGET /assessment?__debugger__=yes&cmd=resource&f=style.css HTTP/1.1\u001b[0m\" 200 -\n",
      "127.0.0.1 - - [16/Mar/2018 16:01:54] \"\u001b[37mGET /assessment?__debugger__=yes&cmd=resource&f=jquery.js HTTP/1.1\u001b[0m\" 200 -\n",
      "127.0.0.1 - - [16/Mar/2018 16:01:54] \"\u001b[37mGET /assessment?__debugger__=yes&cmd=resource&f=debugger.js HTTP/1.1\u001b[0m\" 200 -\n",
      "127.0.0.1 - - [16/Mar/2018 16:01:54] \"\u001b[37mGET /assessment?__debugger__=yes&cmd=resource&f=ubuntu.ttf HTTP/1.1\u001b[0m\" 200 -\n",
      "127.0.0.1 - - [16/Mar/2018 16:01:54] \"\u001b[37mGET /assessment?__debugger__=yes&cmd=resource&f=console.png HTTP/1.1\u001b[0m\" 200 -\n"
     ]
    }
   ],
   "source": [
    "if __name__ == '__main__':\n",
    "\tapp.run(host='localhost', port=8080, debug=True, use_reloader=False)"
   ]
  },
  {
   "cell_type": "code",
   "execution_count": null,
   "metadata": {
    "collapsed": true
   },
   "outputs": [],
   "source": []
  },
  {
   "cell_type": "code",
   "execution_count": null,
   "metadata": {
    "collapsed": true
   },
   "outputs": [],
   "source": []
  },
  {
   "cell_type": "code",
   "execution_count": null,
   "metadata": {
    "collapsed": true
   },
   "outputs": [],
   "source": []
  },
  {
   "cell_type": "code",
   "execution_count": null,
   "metadata": {
    "collapsed": true
   },
   "outputs": [],
   "source": []
  }
 ],
 "metadata": {
  "kernelspec": {
   "display_name": "Python 3",
   "language": "python",
   "name": "python3"
  },
  "language_info": {
   "codemirror_mode": {
    "name": "ipython",
    "version": 3
   },
   "file_extension": ".py",
   "mimetype": "text/x-python",
   "name": "python",
   "nbconvert_exporter": "python",
   "pygments_lexer": "ipython3",
   "version": "3.6.1"
  }
 },
 "nbformat": 4,
 "nbformat_minor": 2
}
