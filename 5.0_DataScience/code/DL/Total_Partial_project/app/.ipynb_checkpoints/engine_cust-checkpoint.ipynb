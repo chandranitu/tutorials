{
 "cells": [
  {
   "cell_type": "code",
   "execution_count": 29,
   "metadata": {
    "collapsed": true
   },
   "outputs": [],
   "source": [
    "import os\n",
    "import json\n",
    "import urllib\n",
    "\n",
    "import h5py\n",
    "import numpy as np\n",
    "import pickle as pk\n",
    "\n",
    "from keras.applications.imagenet_utils import preprocess_input, decode_predictions\n",
    "from keras.preprocessing.image import ImageDataGenerator, array_to_img, img_to_array, load_img\n",
    "from keras.models import Sequential, load_model\n",
    "from keras.utils.data_utils import get_file"
   ]
  },
  {
   "cell_type": "code",
   "execution_count": 30,
   "metadata": {
    "collapsed": true
   },
   "outputs": [],
   "source": [
    "def prepare_img_256(img_path):\n",
    "\timg = load_img(img_path, target_size=(100, 100))\n",
    "\tx = img_to_array(img)\n",
    "\tx = x.reshape((1,) + x.shape)/255\n",
    "\treturn x"
   ]
  },
  {
   "cell_type": "code",
   "execution_count": 31,
   "metadata": {
    "collapsed": true
   },
   "outputs": [],
   "source": [
    "def car_damage_gate(img_256, model):\n",
    "\tprint (\"Validating that damage exists...\")\n",
    "\tpred = model.predict(img_256)\n",
    "\tif pred[0][0] <=.5:\n",
    "\t\treturn True\n",
    "\telse:\n",
    "\t\treturn False"
   ]
  },
  {
   "cell_type": "code",
   "execution_count": 32,
   "metadata": {
    "collapsed": true
   },
   "outputs": [],
   "source": [
    "def location_assessment(img_256, model):\n",
    "\tprint (\"Determining location of damage...\")\n",
    "\tpred = model.predict(img_256)\n",
    "\t#print(pred)\n",
    "\tif pred[0][0] <=.5:\n",
    "\t\treturn 'Front'\n",
    "\telse:\n",
    "\t\treturn 'Rear'"
   ]
  },
  {
   "cell_type": "code",
   "execution_count": 33,
   "metadata": {
    "collapsed": true
   },
   "outputs": [],
   "source": [
    "#d = {0: 'Front', 1: 'Rear'}"
   ]
  },
  {
   "cell_type": "code",
   "execution_count": 34,
   "metadata": {
    "collapsed": true
   },
   "outputs": [],
   "source": [
    "def front_injury_assessment(img_256, model):\n",
    "    print (\"Determining severity of damage...\")\n",
    "    pred = model.predict(img_256)\n",
    "    if pred[0][0] <=.5:\n",
    "        return 'Collar bone fracture' # print \"Validation complete - proceed to location and severity determination\"\n",
    "    else:\n",
    "        return 'Concussion and Face laceration'"
   ]
  },
  {
   "cell_type": "code",
   "execution_count": 35,
   "metadata": {
    "collapsed": true
   },
   "outputs": [],
   "source": [
    "def rear_injury_assessment(img_256, model):\n",
    "    print (\"Determining severity of damage...\")\n",
    "    pred = model.predict(img_256)\n",
    "    if pred[0][0] <=.5:\n",
    "        return 'Rib Fracture' # print \"Validation complete - proceed to location and severity determination\"\n",
    "    else:\n",
    "        return 'Neck Strain'"
   ]
  },
  {
   "cell_type": "code",
   "execution_count": 36,
   "metadata": {
    "collapsed": true
   },
   "outputs": [],
   "source": [
    "injury_front_model = load_model('ft_model_damage_front_injury.h5')\n",
    "injury_rear_model = load_model('ft_model_injury_rear.h5')\n",
    "location_model = load_model('ft_model_damage1_location.h5')"
   ]
  },
  {
   "cell_type": "code",
   "execution_count": 37,
   "metadata": {
    "collapsed": true
   },
   "outputs": [],
   "source": [
    "# load models\n",
    "def engine(img_path,location_model):\n",
    "\timg_256 = prepare_img_256(img_path,location_model)\n",
    "\t#injury_front_model = load_model('ft_model_damage_front_injury.h5')\n",
    "\t#injury_rear_model = load_model('ft_model_injury_rear.h5')\n",
    "\t#location_model = load_model('ft_model_damage1_location.h5')\n",
    "\t#print('location printing')\n",
    "\t#print(location_model)\n",
    "\tx = location_assessment(img_256, location_model)\n",
    "\tprint(x)\n",
    "\tif x == 'Front':\n",
    "\t\ty = front_injury_assessment(img_256, injury_front_model)\n",
    "\telse:\n",
    "\t\ty = rear_injury_assessment(img_256, injury_rear_model)\n",
    "\t#print()\n",
    "\tresult = {'gate1': 'Car validation check: ', \n",
    "\t'gate1_result': 1, \n",
    "\t'gate1_message': {0: None, 1: None},\n",
    "\t'gate2': 'Damage presence check: ',\n",
    "\t'gate2_result': 1,\n",
    "\t'gate2_message': {0: None, 1: None},\n",
    "\t'location': x,\n",
    "\t'Injury': y,\n",
    "\t'final': 'Assessment completed!'}\n",
    "\treturn result"
   ]
  }
 ],
 "metadata": {
  "kernelspec": {
   "display_name": "Python 3",
   "language": "python",
   "name": "python3"
  },
  "language_info": {
   "codemirror_mode": {
    "name": "ipython",
    "version": 3
   },
   "file_extension": ".py",
   "mimetype": "text/x-python",
   "name": "python",
   "nbconvert_exporter": "python",
   "pygments_lexer": "ipython3",
   "version": "3.6.1"
  }
 },
 "nbformat": 4,
 "nbformat_minor": 2
}
