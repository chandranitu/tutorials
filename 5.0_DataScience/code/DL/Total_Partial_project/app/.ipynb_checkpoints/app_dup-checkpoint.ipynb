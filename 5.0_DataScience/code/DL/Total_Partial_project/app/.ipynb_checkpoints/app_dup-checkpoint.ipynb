{
 "cells": [
  {
   "cell_type": "code",
   "execution_count": 1,
   "metadata": {},
   "outputs": [
    {
     "name": "stderr",
     "output_type": "stream",
     "text": [
      "C:\\Users\\pankaj.prabhakar\\AppData\\Local\\Continuum\\Anaconda3\\lib\\site-packages\\h5py\\__init__.py:36: FutureWarning: Conversion of the second argument of issubdtype from `float` to `np.floating` is deprecated. In future, it will be treated as `np.float64 == np.dtype(float).type`.\n",
      "  from ._conv import register_converters as _register_converters\n",
      "Using TensorFlow backend.\n"
     ]
    }
   ],
   "source": [
    "import os\n",
    "import json\n",
    "import urllib\n",
    "import h5py\n",
    "import pickle as pk\n",
    "import numpy as np\n",
    "\n",
    "from os.path import join, dirname, realpath\n",
    "from flask import Flask, request, redirect, url_for, send_from_directory, render_template, flash, Response\n",
    "from werkzeug.utils import secure_filename\n",
    "import ipynb.fs.defs.engine_dup as engine\n",
    "#import engine"
   ]
  },
  {
   "cell_type": "code",
   "execution_count": 2,
   "metadata": {},
   "outputs": [],
   "source": [
    "wk_dir = os.path.dirname(os.path.realpath('__file__'))"
   ]
  },
  {
   "cell_type": "code",
   "execution_count": 3,
   "metadata": {},
   "outputs": [
    {
     "data": {
      "text/plain": [
       "'C:\\\\Users\\\\pankaj.prabhakar\\\\Desktop\\\\Total_Partial\\\\app'"
      ]
     },
     "execution_count": 3,
     "metadata": {},
     "output_type": "execute_result"
    }
   ],
   "source": [
    "wk_dir"
   ]
  },
  {
   "cell_type": "code",
   "execution_count": 4,
   "metadata": {},
   "outputs": [],
   "source": [
    "UPLOAD_FOLDER = join(os.path.dirname(os.path.realpath('__file__')), 'static\\\\upload\\\\')"
   ]
  },
  {
   "cell_type": "code",
   "execution_count": 5,
   "metadata": {},
   "outputs": [
    {
     "data": {
      "text/plain": [
       "'C:\\\\Users\\\\pankaj.prabhakar\\\\Desktop\\\\Total_Partial\\\\app\\\\static\\\\upload\\\\'"
      ]
     },
     "execution_count": 5,
     "metadata": {},
     "output_type": "execute_result"
    }
   ],
   "source": [
    "UPLOAD_FOLDER"
   ]
  },
  {
   "cell_type": "code",
   "execution_count": 6,
   "metadata": {},
   "outputs": [],
   "source": [
    "ALLOWED_EXTENSIONS = set(['png', 'PNG', 'jpg', 'JPG', 'jpeg', 'JPEG', 'gif', 'GIF']) "
   ]
  },
  {
   "cell_type": "code",
   "execution_count": 7,
   "metadata": {},
   "outputs": [],
   "source": [
    "app = Flask(__name__)\n",
    "app.config['UPLOAD_FOLDER'] = UPLOAD_FOLDER\n",
    "app.config['MAX_CONTENT_LENGTH'] = 10 * 1024 * 1024 # max upload - 10MB\n",
    "app.secret_key = 'secret'"
   ]
  },
  {
   "cell_type": "code",
   "execution_count": 8,
   "metadata": {},
   "outputs": [],
   "source": [
    "# check if an extension is valid and that uploads the file and redirects the user to the URL for the uploaded file\n",
    "def allowed_file(filename):\n",
    "\treturn '.' in filename and \\\n",
    "\t\t   filename.rsplit('.', 1)[1] in ALLOWED_EXTENSIONS\n",
    "\n",
    "\n",
    "@app.route('/')\n",
    "def home():\n",
    "\treturn render_template('index.html', result=None)\n",
    "\n",
    "@app.route('/<a>')\n",
    "def available(a):\n",
    "\tflash('{} coming soon!'.format(a))\n",
    "\treturn render_template('index.html', result=None, scroll='third')\n",
    "\n",
    "@app.route('/assessment')\n",
    "def assess():\n",
    "\treturn render_template('index.html', result=None, scroll='third')"
   ]
  },
  {
   "cell_type": "code",
   "execution_count": 9,
   "metadata": {},
   "outputs": [],
   "source": [
    "@app.route('/assessment', methods=['GET', 'POST'])\n",
    "def upload_and_classify():\n",
    "\tif request.method == 'POST':\n",
    "\t\t# check if the post request has the file part\n",
    "\t\tif 'file' not in request.files:\n",
    "\t\t\tflash('No file part')\n",
    "\t\t\treturn redirect(url_for('assess'))\n",
    "\t\t\n",
    "\t\tfile = request.files['file']\n",
    "\n",
    "\t\t# if user does not select file, browser also\n",
    "\t\t# submit a empty part without filename\n",
    "\t\tif file.filename == '':\n",
    "\t\t\tflash('No selected file')\n",
    "\t\t\treturn redirect(url_for('assess'))\n",
    "\n",
    "\t\tif file and allowed_file(file.filename):\n",
    "\t\t\tfilename = secure_filename(file.filename) # used to secure a filename before storing it directly on the filesystem\n",
    "\t\t\tfile.save(os.path.join(app.config['UPLOAD_FOLDER'], filename))\n",
    "\t\t\t# return redirect(url_for('uploaded_file',\n",
    "\t\t\t#                         filename=filename))\n",
    "\t\t\tfilepath = os.path.join(app.config['UPLOAD_FOLDER'], filename)\n",
    "\t\t\tmodel_results = engine.engine(filepath)\n",
    "\n",
    "\t\t\treturn render_template('results.html', result=model_results, scroll='third', filename=filename)\n",
    "\t\n",
    "\tflash('Invalid file format - please try your upload again.')\n",
    "\treturn redirect(url_for('assess'))"
   ]
  },
  {
   "cell_type": "code",
   "execution_count": 10,
   "metadata": {},
   "outputs": [],
   "source": [
    "@app.route('/uploads/<filename>')\n",
    "def send_file(filename):\n",
    "    return send_from_directory(UPLOAD_FOLDER, filename)\n",
    "\n",
    "def uploaded_file(filename):\n",
    "\treturn send_from_directory(app.config['UPLOAD_FOLDER'],\n",
    "\t\t\t\t\t\t\t   filename)"
   ]
  },
  {
   "cell_type": "code",
   "execution_count": null,
   "metadata": {},
   "outputs": [
    {
     "name": "stderr",
     "output_type": "stream",
     "text": [
      " * Running on http://localhost:8080/ (Press CTRL+C to quit)\n",
      "127.0.0.1 - - [20/Apr/2018 18:03:15] \"\u001b[37mGET / HTTP/1.1\u001b[0m\" 200 -\n",
      "127.0.0.1 - - [20/Apr/2018 18:03:22] \"\u001b[37mPOST /assessment HTTP/1.1\u001b[0m\" 200 -\n",
      "127.0.0.1 - - [20/Apr/2018 18:03:22] \"\u001b[37mGET /uploads/t_train_7.JPEG HTTP/1.1\u001b[0m\" 200 -\n"
     ]
    },
    {
     "name": "stdout",
     "output_type": "stream",
     "text": [
      "Determining location of damage...\n",
      "Total Loss\n"
     ]
    },
    {
     "name": "stderr",
     "output_type": "stream",
     "text": [
      "127.0.0.1 - - [20/Apr/2018 18:04:50] \"\u001b[37mGET /assessment HTTP/1.1\u001b[0m\" 200 -\n",
      "127.0.0.1 - - [20/Apr/2018 18:05:04] \"\u001b[37mPOST /assessment HTTP/1.1\u001b[0m\" 200 -\n"
     ]
    },
    {
     "name": "stdout",
     "output_type": "stream",
     "text": [
      "Determining location of damage...\n",
      "Total Loss\n"
     ]
    },
    {
     "name": "stderr",
     "output_type": "stream",
     "text": [
      "127.0.0.1 - - [20/Apr/2018 18:05:04] \"\u001b[37mGET /uploads/t_val_7.JPEG HTTP/1.1\u001b[0m\" 200 -\n",
      "127.0.0.1 - - [20/Apr/2018 18:10:27] \"\u001b[37mGET /assessment HTTP/1.1\u001b[0m\" 200 -\n",
      "127.0.0.1 - - [20/Apr/2018 18:10:33] \"\u001b[37mPOST /assessment HTTP/1.1\u001b[0m\" 200 -\n"
     ]
    },
    {
     "name": "stdout",
     "output_type": "stream",
     "text": [
      "Determining location of damage...\n",
      "Total Loss\n"
     ]
    },
    {
     "name": "stderr",
     "output_type": "stream",
     "text": [
      "127.0.0.1 - - [20/Apr/2018 18:10:33] \"\u001b[37mGET /uploads/t_val_8.JPEG HTTP/1.1\u001b[0m\" 200 -\n",
      "127.0.0.1 - - [20/Apr/2018 18:21:32] \"\u001b[37mGET /assessment HTTP/1.1\u001b[0m\" 200 -\n",
      "127.0.0.1 - - [20/Apr/2018 18:34:17] \"\u001b[37mGET / HTTP/1.1\u001b[0m\" 200 -\n",
      "127.0.0.1 - - [20/Apr/2018 18:34:26] \"\u001b[37mPOST /assessment HTTP/1.1\u001b[0m\" 200 -\n"
     ]
    },
    {
     "name": "stdout",
     "output_type": "stream",
     "text": [
      "Determining location of damage...\n",
      "Partial Loss\n"
     ]
    },
    {
     "name": "stderr",
     "output_type": "stream",
     "text": [
      "127.0.0.1 - - [20/Apr/2018 18:34:47] \"\u001b[37mGET / HTTP/1.1\u001b[0m\" 200 -\n",
      "127.0.0.1 - - [20/Apr/2018 18:34:48] \"\u001b[37mGET /static/infogain-logo.png HTTP/1.1\u001b[0m\" 200 -\n",
      "127.0.0.1 - - [20/Apr/2018 18:34:48] \"\u001b[37mGET /static/collide-512.png HTTP/1.1\u001b[0m\" 200 -\n",
      "127.0.0.1 - - [20/Apr/2018 18:34:48] \"\u001b[37mGET /static/download.jpg HTTP/1.1\u001b[0m\" 200 -\n",
      "127.0.0.1 - - [20/Apr/2018 18:34:48] \"\u001b[37mGET /static/loading_image.gif HTTP/1.1\u001b[0m\" 200 -\n",
      "127.0.0.1 - - [20/Apr/2018 18:34:48] \"\u001b[37mGET /static/splash2.jpg HTTP/1.1\u001b[0m\" 200 -\n",
      "127.0.0.1 - - [20/Apr/2018 18:34:49] \"\u001b[37mGET /static/grid.png HTTP/1.1\u001b[0m\" 200 -\n",
      "127.0.0.1 - - [20/Apr/2018 18:34:59] \"\u001b[37mPOST /assessment HTTP/1.1\u001b[0m\" 200 -\n"
     ]
    },
    {
     "name": "stdout",
     "output_type": "stream",
     "text": [
      "Determining location of damage...\n",
      "Total Loss\n"
     ]
    },
    {
     "name": "stderr",
     "output_type": "stream",
     "text": [
      "127.0.0.1 - - [20/Apr/2018 18:34:59] \"\u001b[37mGET /uploads/t_val_8.JPEG HTTP/1.1\u001b[0m\" 200 -\n",
      "127.0.0.1 - - [22/Apr/2018 14:17:10] \"\u001b[37mGET / HTTP/1.1\u001b[0m\" 200 -\n",
      "127.0.0.1 - - [22/Apr/2018 14:17:10] \"\u001b[36mGET /static/infogain-logo.png HTTP/1.1\u001b[0m\" 304 -\n",
      "127.0.0.1 - - [22/Apr/2018 14:17:10] \"\u001b[36mGET /static/collide-512.png HTTP/1.1\u001b[0m\" 304 -\n",
      "127.0.0.1 - - [22/Apr/2018 14:17:13] \"\u001b[36mGET /static/splash2.jpg HTTP/1.1\u001b[0m\" 304 -\n",
      "127.0.0.1 - - [22/Apr/2018 14:17:13] \"\u001b[36mGET /static/loading_image.gif HTTP/1.1\u001b[0m\" 304 -\n",
      "127.0.0.1 - - [22/Apr/2018 14:17:13] \"\u001b[36mGET /static/download.jpg HTTP/1.1\u001b[0m\" 304 -\n"
     ]
    },
    {
     "name": "stdout",
     "output_type": "stream",
     "text": [
      "Determining location of damage...\n"
     ]
    },
    {
     "name": "stderr",
     "output_type": "stream",
     "text": [
      "127.0.0.1 - - [22/Apr/2018 14:17:47] \"\u001b[37mPOST /assessment HTTP/1.1\u001b[0m\" 200 -\n",
      "127.0.0.1 - - [22/Apr/2018 14:17:47] \"\u001b[37mGET /uploads/p_validate_7.jpeg HTTP/1.1\u001b[0m\" 200 -\n"
     ]
    },
    {
     "name": "stdout",
     "output_type": "stream",
     "text": [
      "Total Loss\n"
     ]
    },
    {
     "name": "stderr",
     "output_type": "stream",
     "text": [
      "127.0.0.1 - - [23/Apr/2018 12:37:11] \"\u001b[37mGET /assessment HTTP/1.1\u001b[0m\" 200 -\n",
      "127.0.0.1 - - [23/Apr/2018 12:37:11] \"\u001b[36mGET /static/infogain-logo.png HTTP/1.1\u001b[0m\" 304 -\n",
      "127.0.0.1 - - [23/Apr/2018 12:37:12] \"\u001b[36mGET /static/collide-512.png HTTP/1.1\u001b[0m\" 304 -\n",
      "127.0.0.1 - - [23/Apr/2018 12:37:12] \"\u001b[36mGET /static/download.jpg HTTP/1.1\u001b[0m\" 304 -\n",
      "127.0.0.1 - - [23/Apr/2018 12:37:12] \"\u001b[36mGET /static/splash2.jpg HTTP/1.1\u001b[0m\" 304 -\n",
      "127.0.0.1 - - [23/Apr/2018 12:37:13] \"\u001b[36mGET /static/loading_image.gif HTTP/1.1\u001b[0m\" 304 -\n"
     ]
    }
   ],
   "source": [
    "if __name__ == '__main__':\n",
    "\tapp.run(host='localhost', port=8080, debug=True, use_reloader=False)"
   ]
  },
  {
   "cell_type": "code",
   "execution_count": null,
   "metadata": {},
   "outputs": [],
   "source": []
  },
  {
   "cell_type": "code",
   "execution_count": null,
   "metadata": {},
   "outputs": [],
   "source": []
  },
  {
   "cell_type": "code",
   "execution_count": null,
   "metadata": {},
   "outputs": [],
   "source": []
  },
  {
   "cell_type": "code",
   "execution_count": null,
   "metadata": {},
   "outputs": [],
   "source": []
  }
 ],
 "metadata": {
  "kernelspec": {
   "display_name": "Python 3",
   "language": "python",
   "name": "python3"
  },
  "language_info": {
   "codemirror_mode": {
    "name": "ipython",
    "version": 3
   },
   "file_extension": ".py",
   "mimetype": "text/x-python",
   "name": "python",
   "nbconvert_exporter": "python",
   "pygments_lexer": "ipython3",
   "version": "3.6.5"
  }
 },
 "nbformat": 4,
 "nbformat_minor": 2
}
