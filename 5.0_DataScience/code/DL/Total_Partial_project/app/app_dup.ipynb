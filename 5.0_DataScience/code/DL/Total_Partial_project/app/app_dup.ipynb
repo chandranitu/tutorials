{
 "cells": [
  {
   "cell_type": "code",
   "execution_count": 12,
   "metadata": {},
   "outputs": [],
   "source": [
    "import os\n",
    "import json\n",
    "import urllib\n",
    "import h5py\n",
    "import pickle as pk\n",
    "import numpy as np\n",
    "\n",
    "from os.path import join, dirname, realpath\n",
    "from flask import Flask, request, redirect, url_for, send_from_directory, render_template, flash, Response\n",
    "from werkzeug.utils import secure_filename\n",
    "import ipynb.fs.defs.engine_dup as engine\n",
    "#import engine"
   ]
  },
  {
   "cell_type": "code",
   "execution_count": 13,
   "metadata": {},
   "outputs": [],
   "source": [
    "wk_dir = os.path.dirname(os.path.realpath('__file__'))"
   ]
  },
  {
   "cell_type": "code",
   "execution_count": 14,
   "metadata": {},
   "outputs": [
    {
     "data": {
      "text/plain": [
       "'C:\\\\Users\\\\pankaj.prabhakar\\\\Desktop\\\\Total_Partial\\\\app'"
      ]
     },
     "execution_count": 14,
     "metadata": {},
     "output_type": "execute_result"
    }
   ],
   "source": [
    "wk_dir"
   ]
  },
  {
   "cell_type": "code",
   "execution_count": 15,
   "metadata": {},
   "outputs": [],
   "source": [
    "UPLOAD_FOLDER = join(os.path.dirname(os.path.realpath('__file__')), 'static\\\\upload\\\\')"
   ]
  },
  {
   "cell_type": "code",
   "execution_count": 16,
   "metadata": {},
   "outputs": [
    {
     "data": {
      "text/plain": [
       "'C:\\\\Users\\\\pankaj.prabhakar\\\\Desktop\\\\Total_Partial\\\\app\\\\static\\\\upload\\\\'"
      ]
     },
     "execution_count": 16,
     "metadata": {},
     "output_type": "execute_result"
    }
   ],
   "source": [
    "UPLOAD_FOLDER"
   ]
  },
  {
   "cell_type": "code",
   "execution_count": 17,
   "metadata": {},
   "outputs": [],
   "source": [
    "ALLOWED_EXTENSIONS = set(['png', 'PNG', 'jpg', 'JPG', 'jpeg', 'JPEG', 'gif', 'GIF']) "
   ]
  },
  {
   "cell_type": "code",
   "execution_count": 18,
   "metadata": {},
   "outputs": [],
   "source": [
    "app = Flask(__name__)\n",
    "app.config['UPLOAD_FOLDER'] = UPLOAD_FOLDER\n",
    "app.config['MAX_CONTENT_LENGTH'] = 10 * 1024 * 1024 # max upload - 10MB\n",
    "app.secret_key = 'secret'"
   ]
  },
  {
   "cell_type": "code",
   "execution_count": 19,
   "metadata": {},
   "outputs": [],
   "source": [
    "# check if an extension is valid and that uploads the file and redirects the user to the URL for the uploaded file\n",
    "def allowed_file(filename):\n",
    "\treturn '.' in filename and \\\n",
    "\t\t   filename.rsplit('.', 1)[1] in ALLOWED_EXTENSIONS\n",
    "\n",
    "\n",
    "@app.route('/')\n",
    "def home():\n",
    "\treturn render_template('index.html', result=None)\n",
    "\n",
    "@app.route('/<a>')\n",
    "def available(a):\n",
    "\tflash('{} coming soon!'.format(a))\n",
    "\treturn render_template('index.html', result=None, scroll='third')\n",
    "\n",
    "@app.route('/assessment')\n",
    "def assess():\n",
    "\treturn render_template('index.html', result=None, scroll='third')"
   ]
  },
  {
   "cell_type": "code",
   "execution_count": 20,
   "metadata": {},
   "outputs": [],
   "source": [
    "@app.route('/assessment', methods=['GET', 'POST'])\n",
    "def upload_and_classify():\n",
    "\tif request.method == 'POST':\n",
    "\t\t# check if the post request has the file part\n",
    "\t\tif 'file' not in request.files:\n",
    "\t\t\tflash('No file part')\n",
    "\t\t\treturn redirect(url_for('assess'))\n",
    "\t\t\n",
    "\t\tfile = request.files['file']\n",
    "\n",
    "\t\t# if user does not select file, browser also\n",
    "\t\t# submit a empty part without filename\n",
    "\t\tif file.filename == '':\n",
    "\t\t\tflash('No selected file')\n",
    "\t\t\treturn redirect(url_for('assess'))\n",
    "\n",
    "\t\tif file and allowed_file(file.filename):\n",
    "\t\t\tfilename = secure_filename(file.filename) # used to secure a filename before storing it directly on the filesystem\n",
    "\t\t\tfile.save(os.path.join(app.config['UPLOAD_FOLDER'], filename))\n",
    "\t\t\t# return redirect(url_for('uploaded_file',\n",
    "\t\t\t#                         filename=filename))\n",
    "\t\t\tfilepath = os.path.join(app.config['UPLOAD_FOLDER'], filename)\n",
    "\t\t\tmodel_results = engine.engine(filepath)\n",
    "\n",
    "\t\t\treturn render_template('results.html', result=model_results, scroll='third', filename=filename)\n",
    "\t\n",
    "\tflash('Invalid file format - please try your upload again.')\n",
    "\treturn redirect(url_for('assess'))"
   ]
  },
  {
   "cell_type": "code",
   "execution_count": 21,
   "metadata": {},
   "outputs": [],
   "source": [
    "@app.route('/uploads/<filename>')\n",
    "def send_file(filename):\n",
    "    return send_from_directory(UPLOAD_FOLDER, filename)\n",
    "\n",
    "def uploaded_file(filename):\n",
    "\treturn send_from_directory(app.config['UPLOAD_FOLDER'],\n",
    "\t\t\t\t\t\t\t   filename)"
   ]
  },
  {
   "cell_type": "code",
   "execution_count": null,
   "metadata": {},
   "outputs": [
    {
     "name": "stderr",
     "output_type": "stream",
     "text": [
      " * Running on http://localhost:8080/ (Press CTRL+C to quit)\n",
      "127.0.0.1 - - [23/Apr/2018 16:25:37] \"\u001b[37mGET / HTTP/1.1\u001b[0m\" 200 -\n",
      "127.0.0.1 - - [23/Apr/2018 16:25:50] \"\u001b[37mPOST /assessment HTTP/1.1\u001b[0m\" 200 -\n"
     ]
    },
    {
     "name": "stdout",
     "output_type": "stream",
     "text": [
      "Determining location of damage...\n",
      "Total Loss\n"
     ]
    },
    {
     "name": "stderr",
     "output_type": "stream",
     "text": [
      "127.0.0.1 - - [23/Apr/2018 16:27:26] \"\u001b[37mGET / HTTP/1.1\u001b[0m\" 200 -\n",
      "127.0.0.1 - - [23/Apr/2018 16:27:26] \"\u001b[36mGET /static/infogain-logo.png HTTP/1.1\u001b[0m\" 304 -\n",
      "127.0.0.1 - - [23/Apr/2018 16:27:27] \"\u001b[36mGET /static/collide-512.png HTTP/1.1\u001b[0m\" 304 -\n",
      "127.0.0.1 - - [23/Apr/2018 16:27:27] \"\u001b[36mGET /static/download.jpg HTTP/1.1\u001b[0m\" 304 -\n",
      "127.0.0.1 - - [23/Apr/2018 16:27:28] \"\u001b[36mGET /static/loading_image.gif HTTP/1.1\u001b[0m\" 304 -\n",
      "127.0.0.1 - - [23/Apr/2018 16:27:28] \"\u001b[36mGET /static/splash2.jpg HTTP/1.1\u001b[0m\" 304 -\n",
      "127.0.0.1 - - [23/Apr/2018 16:27:36] \"\u001b[37mPOST /assessment HTTP/1.1\u001b[0m\" 200 -\n",
      "127.0.0.1 - - [23/Apr/2018 16:27:36] \"\u001b[37mGET /uploads/t_val_11.JPEG HTTP/1.1\u001b[0m\" 200 -\n"
     ]
    },
    {
     "name": "stdout",
     "output_type": "stream",
     "text": [
      "Determining location of damage...\n",
      "Total Loss\n"
     ]
    },
    {
     "name": "stderr",
     "output_type": "stream",
     "text": [
      "127.0.0.1 - - [23/Apr/2018 17:42:23] \"\u001b[37mGET /assessment HTTP/1.1\u001b[0m\" 200 -\n"
     ]
    },
    {
     "name": "stdout",
     "output_type": "stream",
     "text": [
      "Determining location of damage...\n"
     ]
    },
    {
     "name": "stderr",
     "output_type": "stream",
     "text": [
      "127.0.0.1 - - [23/Apr/2018 17:42:38] \"\u001b[37mPOST /assessment HTTP/1.1\u001b[0m\" 200 -\n"
     ]
    },
    {
     "name": "stdout",
     "output_type": "stream",
     "text": [
      "Total Loss\n"
     ]
    },
    {
     "name": "stderr",
     "output_type": "stream",
     "text": [
      "127.0.0.1 - - [23/Apr/2018 17:42:39] \"\u001b[37mGET /uploads/t_val_7.JPEG HTTP/1.1\u001b[0m\" 200 -\n",
      "127.0.0.1 - - [23/Apr/2018 17:44:33] \"\u001b[37mGET / HTTP/1.1\u001b[0m\" 200 -\n"
     ]
    },
    {
     "name": "stdout",
     "output_type": "stream",
     "text": [
      "Determining location of damage...\n"
     ]
    },
    {
     "name": "stderr",
     "output_type": "stream",
     "text": [
      "127.0.0.1 - - [23/Apr/2018 17:44:47] \"\u001b[37mPOST /assessment HTTP/1.1\u001b[0m\" 200 -\n"
     ]
    },
    {
     "name": "stdout",
     "output_type": "stream",
     "text": [
      "Total Loss\n"
     ]
    },
    {
     "name": "stderr",
     "output_type": "stream",
     "text": [
      "127.0.0.1 - - [23/Apr/2018 17:44:48] \"\u001b[37mGET /uploads/t_val_6.JPEG HTTP/1.1\u001b[0m\" 200 -\n",
      "127.0.0.1 - - [23/Apr/2018 17:44:51] \"\u001b[37mGET /assessment HTTP/1.1\u001b[0m\" 200 -\n"
     ]
    },
    {
     "name": "stdout",
     "output_type": "stream",
     "text": [
      "Determining location of damage...\n"
     ]
    },
    {
     "name": "stderr",
     "output_type": "stream",
     "text": [
      "127.0.0.1 - - [23/Apr/2018 17:45:12] \"\u001b[37mPOST /assessment HTTP/1.1\u001b[0m\" 200 -\n"
     ]
    },
    {
     "name": "stdout",
     "output_type": "stream",
     "text": [
      "Total Loss\n"
     ]
    },
    {
     "name": "stderr",
     "output_type": "stream",
     "text": [
      "127.0.0.1 - - [23/Apr/2018 17:45:13] \"\u001b[37mGET /uploads/p_validate_7.jpeg HTTP/1.1\u001b[0m\" 200 -\n",
      "127.0.0.1 - - [23/Apr/2018 17:45:16] \"\u001b[37mGET /assessment HTTP/1.1\u001b[0m\" 200 -\n"
     ]
    },
    {
     "name": "stdout",
     "output_type": "stream",
     "text": [
      "Determining location of damage...\n"
     ]
    },
    {
     "name": "stderr",
     "output_type": "stream",
     "text": [
      "127.0.0.1 - - [23/Apr/2018 17:45:34] \"\u001b[37mPOST /assessment HTTP/1.1\u001b[0m\" 200 -\n"
     ]
    },
    {
     "name": "stdout",
     "output_type": "stream",
     "text": [
      "Partial Loss\n"
     ]
    },
    {
     "name": "stderr",
     "output_type": "stream",
     "text": [
      "127.0.0.1 - - [23/Apr/2018 17:45:35] \"\u001b[37mGET /uploads/p_validate_10.JPEG HTTP/1.1\u001b[0m\" 200 -\n",
      "127.0.0.1 - - [23/Apr/2018 17:45:37] \"\u001b[37mGET /assessment HTTP/1.1\u001b[0m\" 200 -\n"
     ]
    },
    {
     "name": "stdout",
     "output_type": "stream",
     "text": [
      "Determining location of damage...\n"
     ]
    },
    {
     "name": "stderr",
     "output_type": "stream",
     "text": [
      "127.0.0.1 - - [23/Apr/2018 17:45:52] \"\u001b[37mPOST /assessment HTTP/1.1\u001b[0m\" 200 -\n"
     ]
    },
    {
     "name": "stdout",
     "output_type": "stream",
     "text": [
      "Partial Loss\n"
     ]
    },
    {
     "name": "stderr",
     "output_type": "stream",
     "text": [
      "127.0.0.1 - - [23/Apr/2018 17:45:52] \"\u001b[37mGET /uploads/p_validate_19.JPEG HTTP/1.1\u001b[0m\" 200 -\n",
      "127.0.0.1 - - [23/Apr/2018 17:48:18] \"\u001b[37mGET /assessment HTTP/1.1\u001b[0m\" 200 -\n"
     ]
    },
    {
     "name": "stdout",
     "output_type": "stream",
     "text": [
      "Determining location of damage...\n"
     ]
    },
    {
     "name": "stderr",
     "output_type": "stream",
     "text": [
      "127.0.0.1 - - [23/Apr/2018 17:48:47] \"\u001b[37mPOST /assessment HTTP/1.1\u001b[0m\" 200 -\n"
     ]
    },
    {
     "name": "stdout",
     "output_type": "stream",
     "text": [
      "Total Loss\n"
     ]
    },
    {
     "name": "stderr",
     "output_type": "stream",
     "text": [
      "127.0.0.1 - - [23/Apr/2018 17:48:48] \"\u001b[37mGET /uploads/0027.JPEG HTTP/1.1\u001b[0m\" 200 -\n",
      "127.0.0.1 - - [23/Apr/2018 17:56:42] \"\u001b[37mGET /assessment HTTP/1.1\u001b[0m\" 200 -\n",
      "127.0.0.1 - - [23/Apr/2018 17:56:49] \"\u001b[37mPOST /assessment HTTP/1.1\u001b[0m\" 200 -\n"
     ]
    },
    {
     "name": "stdout",
     "output_type": "stream",
     "text": [
      "Determining location of damage...\n",
      "Total Loss\n"
     ]
    },
    {
     "name": "stderr",
     "output_type": "stream",
     "text": [
      "127.0.0.1 - - [23/Apr/2018 17:56:50] \"\u001b[37mGET /uploads/modtest_15.jpeg HTTP/1.1\u001b[0m\" 200 -\n",
      "127.0.0.1 - - [23/Apr/2018 17:56:52] \"\u001b[37mGET /assessment HTTP/1.1\u001b[0m\" 200 -\n"
     ]
    },
    {
     "name": "stdout",
     "output_type": "stream",
     "text": [
      "Determining location of damage...\n",
      "Partial Loss\n"
     ]
    },
    {
     "name": "stderr",
     "output_type": "stream",
     "text": [
      "127.0.0.1 - - [23/Apr/2018 17:57:01] \"\u001b[37mPOST /assessment HTTP/1.1\u001b[0m\" 200 -\n",
      "127.0.0.1 - - [23/Apr/2018 17:57:02] \"\u001b[37mGET /uploads/modtest_16.JPEG HTTP/1.1\u001b[0m\" 200 -\n",
      "127.0.0.1 - - [23/Apr/2018 17:57:03] \"\u001b[37mGET /assessment HTTP/1.1\u001b[0m\" 200 -\n"
     ]
    },
    {
     "name": "stdout",
     "output_type": "stream",
     "text": [
      "Determining location of damage...\n"
     ]
    },
    {
     "name": "stderr",
     "output_type": "stream",
     "text": [
      "127.0.0.1 - - [23/Apr/2018 17:57:11] \"\u001b[37mPOST /assessment HTTP/1.1\u001b[0m\" 200 -\n"
     ]
    },
    {
     "name": "stdout",
     "output_type": "stream",
     "text": [
      "Partial Loss\n"
     ]
    },
    {
     "name": "stderr",
     "output_type": "stream",
     "text": [
      "127.0.0.1 - - [23/Apr/2018 17:57:11] \"\u001b[37mGET /uploads/modtest_17.JPEG HTTP/1.1\u001b[0m\" 200 -\n",
      "127.0.0.1 - - [23/Apr/2018 17:57:33] \"\u001b[37mGET /assessment HTTP/1.1\u001b[0m\" 200 -\n"
     ]
    },
    {
     "name": "stdout",
     "output_type": "stream",
     "text": [
      "Determining location of damage...\n"
     ]
    },
    {
     "name": "stderr",
     "output_type": "stream",
     "text": [
      "127.0.0.1 - - [23/Apr/2018 17:57:41] \"\u001b[37mPOST /assessment HTTP/1.1\u001b[0m\" 200 -\n"
     ]
    },
    {
     "name": "stdout",
     "output_type": "stream",
     "text": [
      "Partial Loss\n"
     ]
    },
    {
     "name": "stderr",
     "output_type": "stream",
     "text": [
      "127.0.0.1 - - [23/Apr/2018 18:08:52] \"\u001b[37mGET / HTTP/1.1\u001b[0m\" 200 -\n",
      "127.0.0.1 - - [23/Apr/2018 18:08:57] \"\u001b[37mGET / HTTP/1.1\u001b[0m\" 200 -\n",
      "127.0.0.1 - - [23/Apr/2018 18:09:01] \"\u001b[37mGET / HTTP/1.1\u001b[0m\" 200 -\n",
      "127.0.0.1 - - [23/Apr/2018 18:09:05] \"\u001b[37mGET / HTTP/1.1\u001b[0m\" 200 -\n",
      "127.0.0.1 - - [23/Apr/2018 18:09:15] \"\u001b[37mGET / HTTP/1.1\u001b[0m\" 200 -\n",
      "127.0.0.1 - - [23/Apr/2018 18:09:56] \"\u001b[37mGET / HTTP/1.1\u001b[0m\" 200 -\n",
      "127.0.0.1 - - [23/Apr/2018 18:09:57] \"\u001b[37mGET /static/infogain-logo.png HTTP/1.1\u001b[0m\" 200 -\n",
      "127.0.0.1 - - [23/Apr/2018 18:09:57] \"\u001b[37mGET /static/collide-512.png HTTP/1.1\u001b[0m\" 200 -\n",
      "127.0.0.1 - - [23/Apr/2018 18:09:57] \"\u001b[37mGET /static/download.jpg HTTP/1.1\u001b[0m\" 200 -\n",
      "127.0.0.1 - - [23/Apr/2018 18:09:57] \"\u001b[37mGET /static/loading_image.gif HTTP/1.1\u001b[0m\" 200 -\n",
      "127.0.0.1 - - [23/Apr/2018 18:09:57] \"\u001b[37mGET /static/splash2.jpg HTTP/1.1\u001b[0m\" 200 -\n",
      "127.0.0.1 - - [23/Apr/2018 18:09:58] \"\u001b[37mGET /static/grid.png HTTP/1.1\u001b[0m\" 200 -\n",
      "127.0.0.1 - - [23/Apr/2018 18:15:51] \"\u001b[37mGET / HTTP/1.1\u001b[0m\" 200 -\n",
      "127.0.0.1 - - [23/Apr/2018 18:16:07] \"\u001b[37mGET / HTTP/1.1\u001b[0m\" 200 -\n",
      "127.0.0.1 - - [23/Apr/2018 18:16:07] \"\u001b[37mGET /static/infogain-logo.png HTTP/1.1\u001b[0m\" 200 -\n",
      "127.0.0.1 - - [23/Apr/2018 18:16:07] \"\u001b[37mGET /static/collide-512.png HTTP/1.1\u001b[0m\" 200 -\n",
      "127.0.0.1 - - [23/Apr/2018 18:16:08] \"\u001b[37mGET /static/download.jpg HTTP/1.1\u001b[0m\" 200 -\n",
      "127.0.0.1 - - [23/Apr/2018 18:16:08] \"\u001b[37mGET /static/loading_image.gif HTTP/1.1\u001b[0m\" 200 -\n",
      "127.0.0.1 - - [23/Apr/2018 18:16:08] \"\u001b[37mGET /static/splash2.jpg HTTP/1.1\u001b[0m\" 200 -\n",
      "127.0.0.1 - - [23/Apr/2018 18:16:08] \"\u001b[37mGET /static/grid.png HTTP/1.1\u001b[0m\" 200 -\n"
     ]
    },
    {
     "name": "stdout",
     "output_type": "stream",
     "text": [
      "Determining location of damage...\n"
     ]
    },
    {
     "name": "stderr",
     "output_type": "stream",
     "text": [
      "127.0.0.1 - - [23/Apr/2018 18:16:16] \"\u001b[37mPOST /assessment HTTP/1.1\u001b[0m\" 200 -\n"
     ]
    },
    {
     "name": "stdout",
     "output_type": "stream",
     "text": [
      "Total Loss\n"
     ]
    },
    {
     "name": "stderr",
     "output_type": "stream",
     "text": [
      "127.0.0.1 - - [23/Apr/2018 18:16:17] \"\u001b[37mGET /uploads/0030.JPEG HTTP/1.1\u001b[0m\" 200 -\n",
      "127.0.0.1 - - [23/Apr/2018 18:18:34] \"\u001b[37mGET / HTTP/1.1\u001b[0m\" 200 -\n",
      "127.0.0.1 - - [23/Apr/2018 18:18:34] \"\u001b[37mGET /static/download.jpeg HTTP/1.1\u001b[0m\" 200 -\n"
     ]
    },
    {
     "name": "stdout",
     "output_type": "stream",
     "text": [
      "Determining location of damage...\n"
     ]
    },
    {
     "name": "stderr",
     "output_type": "stream",
     "text": [
      "127.0.0.1 - - [23/Apr/2018 18:18:41] \"\u001b[37mPOST /assessment HTTP/1.1\u001b[0m\" 200 -\n",
      "127.0.0.1 - - [23/Apr/2018 18:18:41] \"\u001b[37mGET /uploads/modtest_16.JPEG HTTP/1.1\u001b[0m\" 200 -\n"
     ]
    },
    {
     "name": "stdout",
     "output_type": "stream",
     "text": [
      "Partial Loss\n"
     ]
    },
    {
     "name": "stderr",
     "output_type": "stream",
     "text": [
      "127.0.0.1 - - [23/Apr/2018 18:19:22] \"\u001b[37mGET / HTTP/1.1\u001b[0m\" 200 -\n"
     ]
    },
    {
     "name": "stdout",
     "output_type": "stream",
     "text": [
      "Determining location of damage...\n"
     ]
    },
    {
     "name": "stderr",
     "output_type": "stream",
     "text": [
      "127.0.0.1 - - [23/Apr/2018 18:23:09] \"\u001b[37mPOST /assessment HTTP/1.1\u001b[0m\" 200 -\n"
     ]
    },
    {
     "name": "stdout",
     "output_type": "stream",
     "text": [
      "Partial Loss\n"
     ]
    },
    {
     "name": "stderr",
     "output_type": "stream",
     "text": [
      "127.0.0.1 - - [23/Apr/2018 18:23:12] \"\u001b[37mGET /assessment HTTP/1.1\u001b[0m\" 200 -\n"
     ]
    },
    {
     "name": "stdout",
     "output_type": "stream",
     "text": [
      "Determining location of damage...\n"
     ]
    },
    {
     "name": "stderr",
     "output_type": "stream",
     "text": [
      "127.0.0.1 - - [23/Apr/2018 18:23:22] \"\u001b[37mPOST /assessment HTTP/1.1\u001b[0m\" 200 -\n"
     ]
    },
    {
     "name": "stdout",
     "output_type": "stream",
     "text": [
      "Total Loss\n"
     ]
    },
    {
     "name": "stderr",
     "output_type": "stream",
     "text": [
      "127.0.0.1 - - [23/Apr/2018 18:23:22] \"\u001b[37mGET /uploads/0027.JPEG HTTP/1.1\u001b[0m\" 200 -\n",
      "127.0.0.1 - - [23/Apr/2018 18:23:31] \"\u001b[37mGET / HTTP/1.1\u001b[0m\" 200 -\n"
     ]
    },
    {
     "name": "stdout",
     "output_type": "stream",
     "text": [
      "Determining location of damage...\n"
     ]
    },
    {
     "name": "stderr",
     "output_type": "stream",
     "text": [
      "127.0.0.1 - - [23/Apr/2018 18:25:09] \"\u001b[37mPOST /assessment HTTP/1.1\u001b[0m\" 200 -\n"
     ]
    },
    {
     "name": "stdout",
     "output_type": "stream",
     "text": [
      "Partial Loss\n"
     ]
    },
    {
     "name": "stderr",
     "output_type": "stream",
     "text": [
      "127.0.0.1 - - [23/Apr/2018 18:25:22] \"\u001b[37mGET /assessment HTTP/1.1\u001b[0m\" 200 -\n"
     ]
    },
    {
     "name": "stdout",
     "output_type": "stream",
     "text": [
      "Determining location of damage...\n"
     ]
    },
    {
     "name": "stderr",
     "output_type": "stream",
     "text": [
      "127.0.0.1 - - [23/Apr/2018 18:25:36] \"\u001b[37mPOST /assessment HTTP/1.1\u001b[0m\" 200 -\n"
     ]
    },
    {
     "name": "stdout",
     "output_type": "stream",
     "text": [
      "Total Loss\n"
     ]
    },
    {
     "name": "stderr",
     "output_type": "stream",
     "text": [
      "127.0.0.1 - - [23/Apr/2018 18:28:20] \"\u001b[37mGET / HTTP/1.1\u001b[0m\" 200 -\n"
     ]
    },
    {
     "name": "stdout",
     "output_type": "stream",
     "text": [
      "Determining location of damage...\n"
     ]
    },
    {
     "name": "stderr",
     "output_type": "stream",
     "text": [
      "127.0.0.1 - - [23/Apr/2018 18:30:52] \"\u001b[37mPOST /assessment HTTP/1.1\u001b[0m\" 200 -\n"
     ]
    },
    {
     "name": "stdout",
     "output_type": "stream",
     "text": [
      "Total Loss\n"
     ]
    },
    {
     "name": "stderr",
     "output_type": "stream",
     "text": [
      "127.0.0.1 - - [23/Apr/2018 18:31:02] \"\u001b[37mGET /assessment HTTP/1.1\u001b[0m\" 200 -\n"
     ]
    },
    {
     "name": "stdout",
     "output_type": "stream",
     "text": [
      "Determining location of damage...\n"
     ]
    },
    {
     "name": "stderr",
     "output_type": "stream",
     "text": [
      "127.0.0.1 - - [23/Apr/2018 18:31:13] \"\u001b[37mPOST /assessment HTTP/1.1\u001b[0m\" 200 -\n"
     ]
    },
    {
     "name": "stdout",
     "output_type": "stream",
     "text": [
      "Partial Loss\n"
     ]
    },
    {
     "name": "stderr",
     "output_type": "stream",
     "text": [
      "127.0.0.1 - - [23/Apr/2018 18:38:58] \"\u001b[37mGET /assessment HTTP/1.1\u001b[0m\" 200 -\n",
      "127.0.0.1 - - [23/Apr/2018 18:38:58] \"\u001b[37mGET /static/download.jpeg HTTP/1.1\u001b[0m\" 200 -\n",
      "127.0.0.1 - - [23/Apr/2018 18:39:32] \"\u001b[37mGET / HTTP/1.1\u001b[0m\" 200 -\n"
     ]
    },
    {
     "name": "stdout",
     "output_type": "stream",
     "text": [
      "Determining location of damage...\n"
     ]
    },
    {
     "name": "stderr",
     "output_type": "stream",
     "text": [
      "127.0.0.1 - - [23/Apr/2018 18:42:06] \"\u001b[37mPOST /assessment HTTP/1.1\u001b[0m\" 200 -\n"
     ]
    },
    {
     "name": "stdout",
     "output_type": "stream",
     "text": [
      "Partial Loss\n"
     ]
    },
    {
     "name": "stderr",
     "output_type": "stream",
     "text": [
      "127.0.0.1 - - [23/Apr/2018 18:42:15] \"\u001b[37mGET /assessment HTTP/1.1\u001b[0m\" 200 -\n"
     ]
    },
    {
     "name": "stdout",
     "output_type": "stream",
     "text": [
      "Determining location of damage...\n"
     ]
    },
    {
     "name": "stderr",
     "output_type": "stream",
     "text": [
      "127.0.0.1 - - [23/Apr/2018 18:42:30] \"\u001b[37mPOST /assessment HTTP/1.1\u001b[0m\" 200 -\n"
     ]
    },
    {
     "name": "stdout",
     "output_type": "stream",
     "text": [
      "Total Loss\n",
      "Determining location of damage...\n"
     ]
    },
    {
     "name": "stderr",
     "output_type": "stream",
     "text": [
      "127.0.0.1 - - [23/Apr/2018 18:45:42] \"\u001b[37mPOST /assessment HTTP/1.1\u001b[0m\" 200 -\n"
     ]
    },
    {
     "name": "stdout",
     "output_type": "stream",
     "text": [
      "Total Loss\n"
     ]
    },
    {
     "name": "stderr",
     "output_type": "stream",
     "text": [
      "127.0.0.1 - - [23/Apr/2018 18:45:42] \"\u001b[37mGET /static/grid.png HTTP/1.1\u001b[0m\" 200 -\n",
      "127.0.0.1 - - [23/Apr/2018 18:46:55] \"\u001b[37mGET / HTTP/1.1\u001b[0m\" 200 -\n",
      "127.0.0.1 - - [23/Apr/2018 18:46:55] \"\u001b[37mGET / HTTP/1.1\u001b[0m\" 200 -\n",
      "127.0.0.1 - - [23/Apr/2018 18:47:34] \"\u001b[37mGET / HTTP/1.1\u001b[0m\" 200 -\n",
      "127.0.0.1 - - [23/Apr/2018 18:47:44] \"\u001b[37mGET / HTTP/1.1\u001b[0m\" 200 -\n",
      "127.0.0.1 - - [23/Apr/2018 18:48:10] \"\u001b[37mGET / HTTP/1.1\u001b[0m\" 200 -\n",
      "127.0.0.1 - - [23/Apr/2018 18:48:10] \"\u001b[37mGET /static/infogain-logo.png HTTP/1.1\u001b[0m\" 200 -\n",
      "127.0.0.1 - - [23/Apr/2018 18:48:10] \"\u001b[37mGET /static/collide-512.png HTTP/1.1\u001b[0m\" 200 -\n",
      "127.0.0.1 - - [23/Apr/2018 18:48:11] \"\u001b[37mGET /static/download.jpeg HTTP/1.1\u001b[0m\" 200 -\n",
      "127.0.0.1 - - [23/Apr/2018 18:48:11] \"\u001b[37mGET /static/loading_image.gif HTTP/1.1\u001b[0m\" 200 -\n",
      "127.0.0.1 - - [23/Apr/2018 18:48:11] \"\u001b[37mGET /static/splash2.jpg HTTP/1.1\u001b[0m\" 200 -\n",
      "127.0.0.1 - - [23/Apr/2018 18:48:12] \"\u001b[37mGET /static/grid.png HTTP/1.1\u001b[0m\" 200 -\n",
      "127.0.0.1 - - [23/Apr/2018 18:49:10] \"\u001b[37mGET / HTTP/1.1\u001b[0m\" 200 -\n"
     ]
    },
    {
     "name": "stdout",
     "output_type": "stream",
     "text": [
      "Determining location of damage...\n"
     ]
    },
    {
     "name": "stderr",
     "output_type": "stream",
     "text": [
      "127.0.0.1 - - [23/Apr/2018 18:52:03] \"\u001b[37mPOST /assessment HTTP/1.1\u001b[0m\" 200 -\n"
     ]
    },
    {
     "name": "stdout",
     "output_type": "stream",
     "text": [
      "Partial Loss\n"
     ]
    },
    {
     "name": "stderr",
     "output_type": "stream",
     "text": [
      "127.0.0.1 - - [23/Apr/2018 18:52:03] \"\u001b[37mGET /uploads/modtest_16.JPEG HTTP/1.1\u001b[0m\" 200 -\n",
      "127.0.0.1 - - [23/Apr/2018 18:52:12] \"\u001b[37mGET /assessment HTTP/1.1\u001b[0m\" 200 -\n"
     ]
    },
    {
     "name": "stdout",
     "output_type": "stream",
     "text": [
      "Determining location of damage...\n"
     ]
    },
    {
     "name": "stderr",
     "output_type": "stream",
     "text": [
      "127.0.0.1 - - [23/Apr/2018 18:52:26] \"\u001b[37mPOST /assessment HTTP/1.1\u001b[0m\" 200 -\n",
      "127.0.0.1 - - [23/Apr/2018 18:52:26] \"\u001b[37mGET /uploads/0027.JPEG HTTP/1.1\u001b[0m\" 200 -\n"
     ]
    },
    {
     "name": "stdout",
     "output_type": "stream",
     "text": [
      "Total Loss\n"
     ]
    }
   ],
   "source": [
    "if __name__ == '__main__':\n",
    "\tapp.run(host='localhost', port=8080, debug=True, use_reloader=False)"
   ]
  },
  {
   "cell_type": "code",
   "execution_count": null,
   "metadata": {},
   "outputs": [],
   "source": []
  },
  {
   "cell_type": "code",
   "execution_count": null,
   "metadata": {},
   "outputs": [],
   "source": []
  },
  {
   "cell_type": "code",
   "execution_count": null,
   "metadata": {},
   "outputs": [],
   "source": []
  },
  {
   "cell_type": "code",
   "execution_count": null,
   "metadata": {},
   "outputs": [],
   "source": []
  }
 ],
 "metadata": {
  "kernelspec": {
   "display_name": "Python 3",
   "language": "python",
   "name": "python3"
  },
  "language_info": {
   "codemirror_mode": {
    "name": "ipython",
    "version": 3
   },
   "file_extension": ".py",
   "mimetype": "text/x-python",
   "name": "python",
   "nbconvert_exporter": "python",
   "pygments_lexer": "ipython3",
   "version": "3.6.5"
  }
 },
 "nbformat": 4,
 "nbformat_minor": 2
}
